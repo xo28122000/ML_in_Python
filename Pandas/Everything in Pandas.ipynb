{
 "cells": [
  {
   "cell_type": "code",
   "execution_count": 1,
   "metadata": {},
   "outputs": [
    {
     "name": "stdout",
     "output_type": "stream",
     "text": [
      "Requirement already satisfied: pandas in /Users/j/anaconda3/lib/python3.7/site-packages (0.23.4)\r\n",
      "Requirement already satisfied: python-dateutil>=2.5.0 in /Users/j/anaconda3/lib/python3.7/site-packages (from pandas) (2.7.5)\r\n",
      "Requirement already satisfied: pytz>=2011k in /Users/j/anaconda3/lib/python3.7/site-packages (from pandas) (2018.7)\r\n",
      "Requirement already satisfied: numpy>=1.9.0 in /Users/j/anaconda3/lib/python3.7/site-packages (from pandas) (1.15.4)\r\n",
      "Requirement already satisfied: six>=1.5 in /Users/j/anaconda3/lib/python3.7/site-packages (from python-dateutil>=2.5.0->pandas) (1.12.0)\r\n"
     ]
    }
   ],
   "source": [
    "!pip install pandas"
   ]
  },
  {
   "cell_type": "code",
   "execution_count": null,
   "metadata": {},
   "outputs": [],
   "source": [
    "import pandas as pd\n",
    "import numpy as np"
   ]
  },
  {
   "cell_type": "markdown",
   "metadata": {},
   "source": [
    "<h3>Introduction to Data Structures</h3>\n",
    "\n",
    "<table class=\"table table-bordered\">\n",
    "<tbody><tr>\n",
    "<th style=\"text-align:center;\">Data Structure</th>\n",
    "<th style=\"text-align:center;\">Dimensions</th>\n",
    "<th style=\"text-align:center;\">Description</th>\n",
    "</tr>\n",
    "<tr>\n",
    "<td style=\"text-align:center;\">Series</td>\n",
    "<td style=\"text-align:center;\">1</td>\n",
    "<td style=\"text-align:center;\">1D labeled homogeneous array, sizeimmutable.</td>\n",
    "</tr>\n",
    "<tr>\n",
    "<td style=\"text-align:center;\">Data Frames</td>\n",
    "<td style=\"text-align:center;\">2</td>\n",
    "<td style=\"text-align:center;\">General 2D labeled, size-mutable tabular structure with potentially heterogeneously typed\n",
    "columns.</td>\n",
    "</tr>\n",
    "<tr>\n",
    "<td style=\"text-align:center;\">Panel</td>\n",
    "<td style=\"text-align:center;\">3</td>\n",
    "<td style=\"text-align:center;\">General 3D labeled, size-mutable array.</td>\n",
    "</tr>\n",
    "</tbody></table>"
   ]
  },
  {
   "cell_type": "markdown",
   "metadata": {},
   "source": [
    "<h3>Python Pandas - Series</h3>\n",
    "\n",
    "pandas.Series( data, index, dtype, copy)\n",
    "\n",
    "<table class=\"table table-bordered\">\n",
    "<tbody><tr>\n",
    "\n",
    "<th style=\"text-align:center;\">Parameter &amp; Description</th>\n",
    "</tr>\n",
    "<tr>\n",
    "\n",
    "<td style=\"text-align:center;\">\n",
    "<p><b>data</b></p>\n",
    "<p>data takes various forms like ndarray, list, constants</p>\n",
    "</td>\n",
    "</tr>\n",
    "<tr>\n",
    "\n",
    "<td style=\"text-align:center;\">\n",
    "<p><b>index</b></p>\n",
    "<p>Index values must be unique and hashable, same length as data. Default <b>np.arrange(n)</b> if no index is passed.</p>\n",
    "</td>\n",
    "</tr>\n",
    "<tr>\n",
    "\n",
    "<td style=\"text-align:center;\">\n",
    "<p><b>dtype</b></p>\n",
    "<p>dtype is for data type. If None, data type will be inferred</p>\n",
    "</td>\n",
    "</tr>\n",
    "<tr>\n",
    "\n",
    "<td style=\"text-align:center;\">\n",
    "<p><b>copy</b></p>\n",
    "<p>Copy data. Default False</p>\n",
    "</td>\n",
    "</tr>\n",
    "</tbody></table>"
   ]
  },
  {
   "cell_type": "code",
   "execution_count": 4,
   "metadata": {},
   "outputs": [
    {
     "name": "stdout",
     "output_type": "stream",
     "text": [
      "0    a\n",
      "1    b\n",
      "2    c\n",
      "3    d\n",
      "dtype: object\n"
     ]
    }
   ],
   "source": [
    "data = np.array(['a','b','c','d'])\n",
    "s = pd.Series(data)\n",
    "print(s)\n",
    "# the left colum is the index and right column is the corresponding value"
   ]
  },
  {
   "cell_type": "code",
   "execution_count": 6,
   "metadata": {},
   "outputs": [
    {
     "name": "stdout",
     "output_type": "stream",
     "text": [
      "100    a\n",
      "101    b\n",
      "102    c\n",
      "103    d\n",
      "dtype: object\n"
     ]
    }
   ],
   "source": [
    "s = pd.Series(data,index=[100,101,102,103])\n",
    "# index can be overwritten\n",
    "print(s)"
   ]
  },
  {
   "cell_type": "code",
   "execution_count": 10,
   "metadata": {},
   "outputs": [
    {
     "name": "stdout",
     "output_type": "stream",
     "text": [
      "b    1.0\n",
      "c    2.0\n",
      "d    NaN\n",
      "a    0.0\n",
      "dtype: float64\n"
     ]
    }
   ],
   "source": [
    "data = {'a' : 0., 'b' : 1., 'c' : 2.}\n",
    "s = pd.Series(data,index=['b','c','d','a'])\n",
    "print(s)\n",
    "# the missing element is filled with NaN at d"
   ]
  },
  {
   "cell_type": "code",
   "execution_count": 12,
   "metadata": {},
   "outputs": [
    {
     "name": "stdout",
     "output_type": "stream",
     "text": [
      "0    5\n",
      "1    5\n",
      "2    5\n",
      "3    5\n",
      "dtype: int64\n"
     ]
    }
   ],
   "source": [
    "s = pd.Series(5, index=[0, 1, 2, 3])\n",
    "print(s)"
   ]
  },
  {
   "cell_type": "code",
   "execution_count": 34,
   "metadata": {},
   "outputs": [
    {
     "name": "stdout",
     "output_type": "stream",
     "text": [
      "6\n",
      "\n",
      "0    1\n",
      "1    2\n",
      "dtype: int64\n",
      "\n",
      "4    5\n",
      "5    6\n",
      "dtype: int64\n",
      "\n",
      "0    1\n",
      "4    5\n",
      "dtype: int64\n"
     ]
    }
   ],
   "source": [
    "s = pd.Series([1,2,3,4,5,6])\n",
    "print(s[5])\n",
    "print()\n",
    "print(s[:2])\n",
    "print()\n",
    "print(s[-2:])\n",
    "print()\n",
    "print(s[[0,4]])"
   ]
  },
  {
   "cell_type": "markdown",
   "metadata": {},
   "source": [
    "<h3>Python Pandas - DataFrame</h3>\n",
    "\n",
    "<img src =\"https://www.tutorialspoint.com/python_pandas/images/structure_table.jpg\">\n",
    "\n",
    "\n",
    "\n",
    "pandas.DataFrame( data, index, columns, dtype, copy)\n",
    "\n",
    "<table class=\"table table-bordered\">\n",
    "<tbody><tr>\n",
    "\n",
    "<th style=\"text-align:center;\">Parameter &amp; Description</th>\n",
    "</tr>\n",
    "<tr>\n",
    "\n",
    "<td style=\"text-align:center;\">\n",
    "<p><b>data</b></p>\n",
    "<p>data takes various forms like ndarray, series, map, lists, dict, constants and also another DataFrame.</p>\n",
    "</td>\n",
    "</tr>\n",
    "\n",
    "<tr>\n",
    "\n",
    "<td style=\"text-align:center;\">\n",
    "<p><b>columns</b></p>\n",
    "<p>For column labels, the optional default syntax is - np.arrange(n). This is only true if no index is passed.</p>\n",
    "</td>\n",
    "</tr>\n",
    "\n",
    "\n",
    "</tbody></table>"
   ]
  },
  {
   "cell_type": "code",
   "execution_count": 10,
   "metadata": {},
   "outputs": [
    {
     "name": "stdout",
     "output_type": "stream",
     "text": [
      "   0\n",
      "0  1\n",
      "1  2\n",
      "2  3\n",
      "\n",
      "     Name  Age\n",
      "0    Alex   10\n",
      "1     Bob   12\n",
      "2  Clarke   13\n",
      "\n",
      "        Name  Age\n",
      "rank1    Tom   28\n",
      "rank2   Jack   34\n",
      "rank3  Steve   29\n"
     ]
    }
   ],
   "source": [
    "data = [1,2,3]\n",
    "df = pd.DataFrame(data)\n",
    "print (df)\n",
    "print()\n",
    "\n",
    "data = [['Alex',10],['Bob',12],['Clarke',13]]\n",
    "df = pd.DataFrame(data,columns=['Name','Age'])\n",
    "print(df)\n",
    "print()\n",
    "\n",
    "data = {'Name':['Tom', 'Jack', 'Steve', ],'Age':[28,34,29]}\n",
    "df = pd.DataFrame(data, index=['rank1','rank2','rank3',])\n",
    "print (df)"
   ]
  },
  {
   "cell_type": "markdown",
   "metadata": {},
   "source": [
    "<h3>Python Pandas - Basic Functionality</h3>\n",
    "\n",
    "\n",
    "<b>Series and DataFrame</b>\n",
    "<table class=\"table table-bordered\">\n",
    "<tbody><tr>\n",
    "\n",
    "<th style=\"text-align:center;\">Attribute or\n",
    "Method &amp; Description</th>\n",
    "</tr>\n",
    "<tr>\n",
    "\n",
    "<td>\n",
    "<p><b>axes</b></p>\n",
    "<p>Returns a list of the row axis labels</p></td>\n",
    "</tr>\n",
    "<tr>\n",
    "\n",
    "<td>\n",
    "<p><b>dtype</b></p>\n",
    "<p>Returns the dtype of the object.</p></td>\n",
    "</tr>\n",
    "<tr>\n",
    "\n",
    "<td>\n",
    "<p><b>empty</b></p>\n",
    "<p>Returns True if series is empty.</p></td>\n",
    "</tr>\n",
    "<tr>\n",
    "\n",
    "<td>\n",
    "<p><b>ndim</b></p>\n",
    "<p>Returns the number of dimensions of the underlying data, by\n",
    "definition 1.</p></td>\n",
    "</tr>\n",
    "<tr>\n",
    "\n",
    "<td>\n",
    "<p><b>size</b></p>\n",
    "<p>Returns the number of elements in the underlying data.</p></td>\n",
    "</tr>\n",
    "<tr>\n",
    "\n",
    "<td>\n",
    "<p><b>values</b></p>\n",
    "<p>Returns the Series as ndarray.</p></td>\n",
    "</tr>\n",
    "<tr>\n",
    "\n",
    "<td>\n",
    "<p><b>head()</b></p>\n",
    "<p>Returns the first n rows.</p></td>\n",
    "</tr>\n",
    "<tr>\n",
    "\n",
    "<td>\n",
    "<p><b>tail()</b></p>\n",
    "<p>Returns the last n rows.</p></td>\n",
    "</tr>\n",
    "</tbody></table>\n",
    "<b>DataFrame</b>\n",
    "<table class=\"table table-bordered\">\n",
    "<tbody><tr>\n",
    "\n",
    "\n",
    "\n",
    "<td>\n",
    "<p><b>T</b></p>\n",
    "<p>Transposes rows and columns.</p></td>\n",
    "</tr>\n",
    "\n",
    "\n",
    "\n",
    "\n",
    "\n",
    "\n",
    "\n",
    "\n",
    "</tbody></table>"
   ]
  },
  {
   "cell_type": "code",
   "execution_count": 12,
   "metadata": {},
   "outputs": [
    {
     "name": "stdout",
     "output_type": "stream",
     "text": [
      "[RangeIndex(start=0, stop=10, step=1)]\n",
      "\n",
      "False\n",
      "\n",
      "1\n",
      "\n",
      "10\n",
      "\n",
      "[ 0.71908025 -0.48830195 -1.68209854  0.65789081  0.21757745 -0.155688\n",
      " -0.32857113 -1.37585845 -0.20849954  0.88129518]\n",
      "\n",
      "0    0.71908\n",
      "dtype: float64\n",
      "\n",
      "9    0.881295\n",
      "dtype: float64\n",
      "\n",
      "   0  1  2\n",
      "0  1  2  3\n",
      "1  1  2  3\n",
      "2  1  2  3\n"
     ]
    }
   ],
   "source": [
    "s = pd.Series(np.random.randn(10))\n",
    "print (s.axes)\n",
    "print()\n",
    "print (s.empty)\n",
    "print()\n",
    "print (s.ndim)\n",
    "print()\n",
    "print (s.size)\n",
    "print()\n",
    "print (s.values)\n",
    "print()\n",
    "print (s.head(1))\n",
    "print()\n",
    "print (s.tail(1))\n",
    "print()\n",
    "d = pd.DataFrame([[1,1,1],[2,2,2],[3,3,3]])\n",
    "print(d.T)"
   ]
  },
  {
   "cell_type": "markdown",
   "metadata": {},
   "source": [
    "<h3>Python Pandas - Descriptive Statistics</h3>\n",
    "<table class=\"table table-bordered\">\n",
    "<tbody><tr>\n",
    "\n",
    "<th style=\"text-align:center;\">Function</th>\n",
    "<th style=\"text-align:center;\">Description</th>\n",
    "</tr>\n",
    "<tr>\n",
    "\n",
    "<td style=\"text-align:center;\">count()</td>\n",
    "<td>Number of non-null observations</td>\n",
    "</tr>\n",
    "<tr>\n",
    "\n",
    "<td style=\"text-align:center;\">sum()</td>\n",
    "<td>Sum of values</td>\n",
    "</tr>\n",
    "<tr>\n",
    "\n",
    "<td style=\"text-align:center;\">mean()</td>\n",
    "<td>Mean of Values</td>\n",
    "</tr>\n",
    "<tr>\n",
    "\n",
    "<td style=\"text-align:center;\">median()</td>\n",
    "<td>Median of Values</td>\n",
    "</tr>\n",
    "<tr>\n",
    "\n",
    "<td style=\"text-align:center;\">mode()</td>\n",
    "<td>Mode of values</td>\n",
    "</tr>\n",
    "<tr>\n",
    "\n",
    "<td style=\"text-align:center;\">std()</td>\n",
    "<td>Standard Deviation of the Values</td>\n",
    "</tr>\n",
    "<tr>\n",
    "\n",
    "<td style=\"text-align:center;\">min()</td>\n",
    "<td>Minimum Value</td>\n",
    "</tr>\n",
    "<tr>\n",
    "\n",
    "<td style=\"text-align:center;\">max()</td>\n",
    "<td>Maximum Value</td>\n",
    "</tr>\n",
    "<tr>\n",
    "\n",
    "<td style=\"text-align:center;\">abs()</td>\n",
    "<td>Absolute Value</td>\n",
    "</tr>\n",
    "<tr>\n",
    "\n",
    "<td style=\"text-align:center;\">prod()</td>\n",
    "<td>Product of Values</td>\n",
    "</tr>\n",
    "<tr>\n",
    "\n",
    "<td style=\"text-align:center;\">cumsum()</td>\n",
    "<td>Cumulative Sum</td>\n",
    "</tr>\n",
    "<tr>\n",
    "\n",
    "<td style=\"text-align:center;\">cumprod()</td>\n",
    "<td>Cumulative Product</td>\n",
    "</tr>\n",
    "</tbody></table>"
   ]
  },
  {
   "cell_type": "code",
   "execution_count": 22,
   "metadata": {},
   "outputs": [
    {
     "name": "stdout",
     "output_type": "stream",
     "text": [
      "      Name  Age  Rating\n",
      "0      Tom   25    4.23\n",
      "1    James   26    3.24\n",
      "2    Ricky   25    3.98\n",
      "3      Vin   23    2.56\n",
      "4    Steve   30    3.20\n",
      "5    Smith   29    4.60\n",
      "6     Jack   23    3.80\n",
      "7      Lee   34    3.78\n",
      "8    David   40    2.98\n",
      "9   Gasper   30    4.80\n",
      "10  Betina   51    4.10\n",
      "11  Andres   46    3.65\n",
      "\n",
      "Name      TomJamesRickyVinSteveSmithJackLeeDavidGasperBe...\n",
      "Age                                                     382\n",
      "Rating                                                44.92\n",
      "dtype: object\n",
      "\n",
      "0     29.23\n",
      "1     29.24\n",
      "2     28.98\n",
      "3     25.56\n",
      "4     33.20\n",
      "5     33.60\n",
      "6     26.80\n",
      "7     37.78\n",
      "8     42.98\n",
      "9     34.80\n",
      "10    55.10\n",
      "11    49.65\n",
      "dtype: float64\n"
     ]
    }
   ],
   "source": [
    "d = {'Name':pd.Series(['Tom','James','Ricky','Vin','Steve','Smith','Jack',\n",
    "   'Lee','David','Gasper','Betina','Andres']),\n",
    "   'Age':pd.Series([25,26,25,23,30,29,23,34,40,30,51,46]),\n",
    "   'Rating':pd.Series([4.23,3.24,3.98,2.56,3.20,4.6,3.8,3.78,2.98,4.80,4.10,3.65])\n",
    "}\n",
    "\n",
    "#Create a DataFrame\n",
    "df = pd.DataFrame(d)\n",
    "print (df)\n",
    "print()\n",
    "print(df.sum())\n",
    "print()\n",
    "print(df.sum(1))"
   ]
  },
  {
   "cell_type": "code",
   "execution_count": 24,
   "metadata": {},
   "outputs": [
    {
     "name": "stdout",
     "output_type": "stream",
     "text": [
      "             Age     Rating\n",
      "count  12.000000  12.000000\n",
      "mean   31.833333   3.743333\n",
      "std     9.232682   0.661628\n",
      "min    23.000000   2.560000\n",
      "25%    25.000000   3.230000\n",
      "50%    29.500000   3.790000\n",
      "75%    35.500000   4.132500\n",
      "max    51.000000   4.800000\n",
      "\n",
      "         Name        Age     Rating\n",
      "count      12  12.000000  12.000000\n",
      "unique     12        NaN        NaN\n",
      "top     Ricky        NaN        NaN\n",
      "freq        1        NaN        NaN\n",
      "mean      NaN  31.833333   3.743333\n",
      "std       NaN   9.232682   0.661628\n",
      "min       NaN  23.000000   2.560000\n",
      "25%       NaN  25.000000   3.230000\n",
      "50%       NaN  29.500000   3.790000\n",
      "75%       NaN  35.500000   4.132500\n",
      "max       NaN  51.000000   4.800000\n"
     ]
    }
   ],
   "source": [
    "print (df.describe())\n",
    "print()\n",
    "print (df.describe(include='all'))\n",
    "\n",
    "\n",
    "# object − Summarizes String columns\n",
    "# number − Summarizes Numeric columns\n",
    "# all − Summarizes all columns together "
   ]
  },
  {
   "cell_type": "markdown",
   "metadata": {},
   "source": [
    "<h3>Python Pandas - Function Application</h3>\n",
    "\n",
    "<b>Table wise Function Application: pipe()\n",
    "</b>\n",
    "\n",
    "\n",
    "Custom operations can be performed by passing the function and the appropriate number of parameters as pipe arguments. Thus, operation is performed on the whole DataFrame.\n",
    "\n",
    "\n",
    "<b>Row or Column Wise Function Application: apply()\n",
    "</b>\n",
    "\n",
    "\n",
    "Arbitrary functions can be applied along the axes of a DataFrame or Panel using the apply() method, which, like the descriptive statistics methods, takes an optional axis argument. By default, the operation performs column wise, taking each column as an array-like.\n",
    "\n",
    "\n",
    "<b>Element wise Function Application: applymap()\n",
    "</b>\n",
    "\n",
    "the methods applymap() on DataFrame and analogously map() on Series accept any Python function taking a single value and returning a single value.\n",
    "\n"
   ]
  },
  {
   "cell_type": "code",
   "execution_count": 38,
   "metadata": {},
   "outputs": [
    {
     "name": "stdout",
     "output_type": "stream",
     "text": [
      "     0    1    2     3     4     5     6     7     8\n",
      "0    1    4    9    16    25    36    49    64    81\n",
      "1  100  400  900  1600  2500  3600  4900  6400  8100\n",
      "0     5.0\n",
      "1    50.0\n",
      "dtype: float64\n"
     ]
    }
   ],
   "source": [
    "df = pd.DataFrame([[1,2,3,4,5,6,7,8,9],[10,20,30,40,50,60,70,80,90]])\n",
    "print( df.applymap(lambda x:x**2) )\n",
    "\n",
    "print(df.apply(np.mean,axis=1))"
   ]
  },
  {
   "cell_type": "markdown",
   "metadata": {},
   "source": [
    "<h3>Python Pandas - Reindexing And Renaming</h3>\n",
    "\n",
    "<b>Reindex"
   ]
  },
  {
   "cell_type": "code",
   "execution_count": 40,
   "metadata": {},
   "outputs": [
    {
     "name": "stdout",
     "output_type": "stream",
     "text": [
      "            A     x         y       C           D\n",
      "0  2016-01-01   0.0  0.436940    High   78.562058\n",
      "1  2016-01-02   1.0  0.308300  Medium   97.271276\n",
      "2  2016-01-03   2.0  0.198512  Medium   90.828990\n",
      "3  2016-01-04   3.0  0.878558  Medium   95.858641\n",
      "4  2016-01-05   4.0  0.863035    High  111.391191\n",
      "5  2016-01-06   5.0  0.109871    High   97.761229\n",
      "6  2016-01-07   6.0  0.661311    High  112.144401\n",
      "7  2016-01-08   7.0  0.423101  Medium  113.035207\n",
      "8  2016-01-09   8.0  0.718770     Low  106.908970\n",
      "9  2016-01-10   9.0  0.009904    High   86.266387\n",
      "10 2016-01-11  10.0  0.323459  Medium  108.430143\n",
      "11 2016-01-12  11.0  0.544658  Medium  105.899885\n",
      "12 2016-01-13  12.0  0.725288    High  122.968484\n",
      "13 2016-01-14  13.0  0.677373     Low   98.538545\n",
      "14 2016-01-15  14.0  0.690644    High  100.546431\n",
      "15 2016-01-16  15.0  0.415890    High  110.468204\n",
      "16 2016-01-17  16.0  0.446759  Medium   93.017073\n",
      "17 2016-01-18  17.0  0.581544     Low  101.931303\n",
      "18 2016-01-19  18.0  0.124389    High  100.850237\n",
      "19 2016-01-20  19.0  0.114370  Medium  102.128083\n",
      "           A       C   B\n",
      "0 2016-01-01    High NaN\n",
      "2 2016-01-03  Medium NaN\n",
      "5 2016-01-06    High NaN\n"
     ]
    }
   ],
   "source": [
    "N=20\n",
    "\n",
    "df = pd.DataFrame({\n",
    "   'A': pd.date_range(start='2016-01-01',periods=N,freq='D'),\n",
    "   'x': np.linspace(0,stop=N-1,num=N),\n",
    "   'y': np.random.rand(N),\n",
    "   'C': np.random.choice(['Low','Medium','High'],N).tolist(),\n",
    "   'D': np.random.normal(100, 10, size=(N)).tolist()\n",
    "})\n",
    "\n",
    "#reindex the DataFrame\n",
    "df_reindexed = df.reindex(index=[0,2,5], columns=['A', 'C', 'B'])\n",
    "print(df)\n",
    "print (df_reindexed)"
   ]
  },
  {
   "cell_type": "markdown",
   "metadata": {},
   "source": [
    "<b>reindex_like and rename"
   ]
  },
  {
   "cell_type": "code",
   "execution_count": 50,
   "metadata": {},
   "outputs": [
    {
     "name": "stdout",
     "output_type": "stream",
     "text": [
      "       col1      col2      col3\n",
      "0 -0.599265  0.345364  1.267003\n",
      "1  0.646699 -0.170542  1.065252\n",
      "2  0.069017 -0.674890 -0.216596\n",
      "3 -2.217099  1.363995 -0.730604\n",
      "4  1.284265 -0.725696 -1.109991\n",
      "5 -1.673772  0.015104  0.055695\n",
      "6 -0.339400  0.128017 -0.960818\n",
      "7  0.431201 -0.960983 -0.953654\n",
      "8 -0.230118  0.345102 -0.856678\n",
      "9 -1.672235 -1.690922 -1.056215\n",
      "       col1      col2  col30\n",
      "0 -0.599265  0.345364    NaN\n",
      "1  0.646699 -0.170542    NaN\n",
      "2  0.069017 -0.674890    NaN\n",
      "3 -2.217099  1.363995    NaN\n",
      "4  1.284265 -0.725696    NaN\n",
      "5 -1.673772  0.015104    NaN\n",
      "6 -0.339400  0.128017    NaN\n",
      "         c1        c2  col30\n",
      "0 -0.599265  0.345364    NaN\n",
      "1  0.646699 -0.170542    NaN\n",
      "2  0.069017 -0.674890    NaN\n",
      "3 -2.217099  1.363995    NaN\n",
      "4  1.284265 -0.725696    NaN\n",
      "5 -1.673772  0.015104    NaN\n",
      "6 -0.339400  0.128017    NaN\n"
     ]
    }
   ],
   "source": [
    "df1 = pd.DataFrame(np.random.randn(10,3),columns=['col1','col2','col3'])\n",
    "df2 = pd.DataFrame(np.random.randn(7,3),columns=['col1','col2','col30'])\n",
    "print(df1)\n",
    "df1 = df1.reindex_like(df2)\n",
    "print (df1)\n",
    "print( df1.rename(columns={'col1' : 'c1', 'col2' : 'c2'}))"
   ]
  },
  {
   "cell_type": "markdown",
   "metadata": {},
   "source": [
    "<h3>Python Pandas - Iteration</h3>\n",
    "\n",
    "\n",
    "basic iteration (for i in object) produces −\n",
    "\n",
    "Series − values\n",
    "\n",
    "DataFrame − column labels\n",
    "\n",
    "<br><br>\n",
    "\n",
    "To iterate over the rows of the DataFrame, we can use the following functions −\n",
    "\n",
    "iteritems() − to iterate over the (key,value) pairs\n",
    "\n",
    "iterrows() − iterate over the rows as (index,series) pairs\n",
    "\n",
    "itertuples() − iterate over the rows as namedtuples"
   ]
  },
  {
   "cell_type": "code",
   "execution_count": 64,
   "metadata": {},
   "outputs": [
    {
     "name": "stdout",
     "output_type": "stream",
     "text": [
      "  col1 col2 col3\n",
      "0    1    2    3\n",
      "1    a    b    c\n",
      "\n",
      "col1\n",
      "0    1\n",
      "1    a\n",
      "Name: col1, dtype: object\n",
      "col2\n",
      "0    2\n",
      "1    b\n",
      "Name: col2, dtype: object\n",
      "col3\n",
      "0    3\n",
      "1    c\n",
      "Name: col3, dtype: object\n",
      "\n",
      "0\n",
      "col1    1\n",
      "col2    2\n",
      "col3    3\n",
      "Name: 0, dtype: object\n",
      "1\n",
      "col1    a\n",
      "col2    b\n",
      "col3    c\n",
      "Name: 1, dtype: object\n",
      "\n",
      "Pandas(Index=0, col1=1, col2=2, col3=3)\n",
      "Pandas(Index=1, col1='a', col2='b', col3='c')\n"
     ]
    }
   ],
   "source": [
    "df = pd.DataFrame([[1,2,3],['a','b','c']],columns=['col1','col2','col3'],index = [0,1])\n",
    "print(df)\n",
    "print()\n",
    "for key,value in df.iteritems():\n",
    "    print (key)\n",
    "    print(value)\n",
    "print()\n",
    "for key,value in df.iterrows():\n",
    "    print (key)\n",
    "    print(value)\n",
    "print()\n",
    "for key in df.itertuples():\n",
    "    print (key)\n",
    "   "
   ]
  },
  {
   "cell_type": "markdown",
   "metadata": {},
   "source": [
    "<h3>Python Pandas - Sorting</h3>\n",
    "\n",
    "By Label - sort_index(): only sees the index or column names or values and sorts it \n",
    "\n",
    "Args : ascending=False , axis=1\n",
    "\n",
    "By Value - sort_values(): sees the values in a row or a column and sorts the values"
   ]
  },
  {
   "cell_type": "code",
   "execution_count": 85,
   "metadata": {},
   "outputs": [
    {
     "name": "stdout",
     "output_type": "stream",
     "text": [
      "   col1  col2\n",
      "3     1    10\n",
      "2    10     3\n",
      "1     9    50\n",
      "4     2    40\n",
      "\n",
      "   col1  col2\n",
      "1     9    50\n",
      "2    10     3\n",
      "3     1    10\n",
      "4     2    40\n",
      "\n",
      "   col1  col2\n",
      "3     1    10\n",
      "4     2    40\n",
      "1     9    50\n",
      "2    10     3\n"
     ]
    }
   ],
   "source": [
    "df = pd.DataFrame([[1,10],[10,3],[9,50],[2,40]],columns=['col1','col2'],index=[3,2,1,4])\n",
    "print(df)\n",
    "print()\n",
    "print(df.sort_index())\n",
    "print()\n",
    "print(df.sort_values(by = ['col1','col2']))"
   ]
  },
  {
   "cell_type": "markdown",
   "metadata": {},
   "source": [
    "<h3>Python Pandas - Indexing and Selecting Data</h3>\n",
    "<table class=\"table table-bordered\">\n",
    "<tbody><tr>\n",
    "\n",
    "<th style=\"text-align:center;\">Indexing &amp; Description</th>\n",
    "</tr>\n",
    "<tr>\n",
    "\n",
    "<td>\n",
    "<p><b>.loc()</b></p>\n",
    "<p>Label based</p></td>\n",
    "</tr>\n",
    "<tr>\n",
    "\n",
    "<td>\n",
    "<p><b>.iloc()</b></p>\n",
    "<p>Integer based</p></td>\n",
    "</tr>\n",
    "<tr>\n",
    "\n",
    "<td>\n",
    "<p><b>.ix()</b></p>\n",
    "<p>Both Label and Integer based</p></td>\n",
    "</tr>\n",
    "</tbody></table>"
   ]
  },
  {
   "cell_type": "code",
   "execution_count": 113,
   "metadata": {},
   "outputs": [
    {
     "name": "stdout",
     "output_type": "stream",
     "text": [
      "   col1  col2\n",
      "3     1    10\n",
      "2    10     3\n",
      "1     9    50\n",
      "4     2    40\n",
      "\n",
      "3     1\n",
      "2    10\n",
      "1     9\n",
      "4     2\n",
      "Name: col1, dtype: int64\n",
      "\n",
      "3    10\n",
      "4    40\n",
      "Name: col2, dtype: int64\n",
      "\n",
      "3    10\n",
      "2     3\n",
      "Name: col2, dtype: int64\n"
     ]
    }
   ],
   "source": [
    "print(df)\n",
    "print()\n",
    "print(df['col1'])\n",
    "print()\n",
    "print (df.loc[[3,4],'col2'])\n",
    "print()\n",
    "print(df.iloc[:2,1])\n",
    "# these are 0-based indexing."
   ]
  },
  {
   "cell_type": "markdown",
   "metadata": {},
   "source": [
    "<h3>Python Pandas - Statistical Functions</h3>\n",
    "\n",
    "df.Percent_change() : This function compares every element with its prior element and computes the change percentage.\n",
    "\n",
    "sr1.Correlation(sr2) : Correlation shows the linear relationship between any two array of values "
   ]
  },
  {
   "cell_type": "markdown",
   "metadata": {},
   "source": [
    "<h3>Python Pandas - Window Functions and Aggregations"
   ]
  },
  {
   "cell_type": "markdown",
   "metadata": {},
   "source": [
    "<h3>Python Pandas - Missing Data</h3>\n",
    "\n",
    "\n",
    "<b>to check if it is an address is null or not</b>\n",
    "\n",
    "\n",
    "\n",
    ".isnull() \n",
    "\n",
    ".notnull()\n",
    "  \n",
    "  \n",
    "-- can be applied to columns too and the output will be element wise check on the column\n",
    "  \n",
    "  \n",
    "<b>to fill the nan values in dataframe/series</b>\n",
    "\n",
    "\n",
    ".fillna(0) # fills with 0\n",
    "\n",
    ".fillna(method='pad')  # fills with approximate value like previous(pad/fill) or upcoming(bfill/backfill ) value\n",
    "\n",
    "\n",
    "<b>to drop the row/column with nan</b>\n",
    "\n",
    "\n",
    ".dropna()\n",
    "\n",
    "\n",
    ".dropna(axis=1)\n",
    "\n",
    "\n",
    "<b>to replace any value with some other value</b>\n",
    "\n",
    "\n",
    ".replace({1000:10,2000:60})"
   ]
  },
  {
   "cell_type": "markdown",
   "metadata": {},
   "source": [
    "<h3>Python Pandas - GroupBy</h3>\n",
    "\n",
    "- obj.groupby(key,axis=1), .groupby(['Team','Year'])\n",
    "- print df.groupby('Team').groups\n",
    "- grouped.get_group(2014)"
   ]
  },
  {
   "cell_type": "markdown",
   "metadata": {},
   "source": [
    "<h3>Python Pandas - Merging/Joining</h3>\n",
    "\n",
    "\n",
    "pd.merge(left, right, how='inner', on=None, left_on=None, right_on=None,\n",
    "left_index=False, right_index=False, sort=True)\n",
    "\n",
    "left − A DataFrame object.\n",
    "\n",
    "right − Another DataFrame object.\n",
    "\n",
    "on − Columns (names) to join on. Must be found in both the left and right DataFrame objects.\n",
    "\n",
    "left_on − Columns from the left DataFrame to use as keys. Can either be column names or arrays with length equal to the length of the DataFrame.\n",
    "\n",
    "right_on − Columns from the right DataFrame to use as keys. Can either be column names or arrays with length equal to the length of the DataFrame.\n",
    "\n",
    "left_index − If True, use the index (row labels) from the left DataFrame as its join key(s). In case of a DataFrame with a MultiIndex (hierarchical), the number of levels must match the number of join keys from the right DataFrame.\n",
    "\n",
    "right_index − Same usage as left_index for the right DataFrame.\n",
    "\n",
    "how − One of 'left', 'right', 'outer', 'inner'. Defaults to inner. Each method has been described below.\n",
    "\n",
    "sort − Sort the result DataFrame by the join keys in lexicographical order. Defaults to True, setting to False will improve the performance substantially in many cases.\n",
    "\n",
    "<table class=\"table table-bordered\">\n",
    "<tbody><tr>\n",
    "<th style=\"text-align:center;\">Merge Method</th>\n",
    "<th style=\"text-align:center;\">SQL Equivalent</th>\n",
    "<th style=\"text-align:center;\">Description</th>\n",
    "</tr>\n",
    "<tr>\n",
    "<td style=\"text-align:center;\">left</td>\n",
    "<td style=\"text-align:center;\">LEFT OUTER JOIN</td>\n",
    "<td>Use keys from left object</td>\n",
    "</tr>\n",
    "<tr>\n",
    "<td style=\"text-align:center;\">right</td>\n",
    "<td style=\"text-align:center;\">RIGHT OUTER JOIN</td>\n",
    "<td>Use keys from right object</td>\n",
    "</tr>\n",
    "<tr>\n",
    "<td style=\"text-align:center;\">outer</td>\n",
    "<td style=\"text-align:center;\">FULL OUTER JOIN</td>\n",
    "<td>Use union of keys</td>\n",
    "</tr>\n",
    "<tr>\n",
    "<td style=\"text-align:center;\">inner</td>\n",
    "<td style=\"text-align:center;\">INNER JOIN</td>\n",
    "<td>Use intersection of keys</td>\n",
    "</tr>\n",
    "</tbody></table>"
   ]
  },
  {
   "cell_type": "markdown",
   "metadata": {},
   "source": [
    "<h3>Python Pandas - Concatenation</h3>\n",
    "\n",
    " pd.concat(objs,axis=0,join='outer',join_axes=None,\n",
    "ignore_index=False)\n",
    "\n",
    "- objs − This is a sequence or mapping of Series, DataFrame, or Panel objects.\n",
    "\n",
    "- axis − {0, 1, ...}, default 0. This is the axis to concatenate along.\n",
    "\n",
    "- join − {‘inner’, ‘outer’}, default ‘outer’. How to handle indexes on other axis(es). Outer for union and inner for intersection.\n",
    "\n",
    "- ignore_index − boolean, default False. If True, do not use the index values on the concatenation axis. The resulting axis will be labeled 0, ..., n - 1.\n",
    "\n",
    "- join_axes − This is the list of Index objects. Specific indexes to use for the other (n-1) axes instead of performing inner/outer set logic.\n",
    "\n"
   ]
  },
  {
   "cell_type": "markdown",
   "metadata": {},
   "source": [
    "---\n",
    "not completed https://www.tutorialspoint.com/python_pandas/\n"
   ]
  }
 ],
 "metadata": {
  "kernelspec": {
   "display_name": "Python 3",
   "language": "python",
   "name": "python3"
  },
  "language_info": {
   "codemirror_mode": {
    "name": "ipython",
    "version": 3
   },
   "file_extension": ".py",
   "mimetype": "text/x-python",
   "name": "python",
   "nbconvert_exporter": "python",
   "pygments_lexer": "ipython3",
   "version": "3.7.1"
  }
 },
 "nbformat": 4,
 "nbformat_minor": 2
}
