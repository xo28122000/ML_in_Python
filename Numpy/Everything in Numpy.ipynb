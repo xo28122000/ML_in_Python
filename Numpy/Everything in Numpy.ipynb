{
 "cells": [
  {
   "cell_type": "code",
   "execution_count": 14,
   "metadata": {},
   "outputs": [
    {
     "name": "stdout",
     "output_type": "stream",
     "text": [
      "Requirement already satisfied: numpy in /Users/j/anaconda3/lib/python3.7/site-packages (1.15.4)\r\n"
     ]
    }
   ],
   "source": [
    "!pip install numpy"
   ]
  },
  {
   "cell_type": "markdown",
   "metadata": {},
   "source": [
    "<h3>NumPy - Ndarray Object</h3><br>\n",
    "    The most important object defined in NumPy is an N-dimensional array type called ndarray. It describes the collection of items of the same type. Items in the collection can be accessed using a zero-based index.\n",
    "\n",
    "Every item in an ndarray takes the same size of block in the memory. Each element in ndarray is an object of data-type object (called dtype).\n",
    "\n",
    "\n",
    "<b>numpy.array(object, dtype = None, copy = True, order = None, subok = False, ndmin = 0)</b>\n",
    "\n",
    "<table class=\"table table-bordered\">\n",
    "<tbody><tr>\n",
    "\n",
    "<th style=\"text-align:center;\">Parameter &amp; Description</th>\n",
    "</tr>\n",
    "<tr>\n",
    "\n",
    "<td><p><b>object</b></p>\n",
    "<p>Any object exposing the array interface method returns an array, or any (nested) sequence.</p>\n",
    "</td>\n",
    "</tr>\n",
    "<tr>\n",
    "\n",
    "<td><p><b>dtype</b></p>\n",
    "<p>Desired data type of array, optional</p>\n",
    "</td>\n",
    "</tr>\n",
    "<tr>\n",
    "\n",
    "<td><p><b>copy</b></p>\n",
    "<p>Optional. By default (true), the object is copied</p>\n",
    "</td>\n",
    "</tr>\n",
    "<tr>\n",
    "\n",
    "<td><p><b>order</b></p>\n",
    "<p>C (row major) or F (column major) or A (any) (default)</p>\n",
    "</td>\n",
    "</tr>\n",
    "<tr>\n",
    "\n",
    "<td><p><b>subok</b></p>\n",
    "<p>By default, returned array forced to be a base class array. If true, sub-classes passed through</p>\n",
    "</td>\n",
    "</tr>\n",
    "<tr>\n",
    "\n",
    "<td><p><b>ndmin</b></p>\n",
    "<p>Specifies minimum dimensions of resultant array</p>\n",
    "</td>\n",
    "</tr>\n",
    "</tbody></table>"
   ]
  },
  {
   "cell_type": "markdown",
   "metadata": {},
   "source": [
    "<dl><dd><span class=\"mwe-math-element\"><span class=\"mwe-math-mathml-inline mwe-math-mathml-a11y\" style=\"display: none;\"><math xmlns=\"http://www.w3.org/1998/Math/MathML\" alttext=\"{\\displaystyle A={\\begin{bmatrix}a_{11}&amp;a_{12}&amp;a_{13}\\\\a_{21}&amp;a_{22}&amp;a_{23}\\end{bmatrix}}}\">\n",
    "  <semantics>\n",
    "    <mrow class=\"MJX-TeXAtom-ORD\">\n",
    "      <mstyle displaystyle=\"true\" scriptlevel=\"0\">\n",
    "        <mi>A</mi>\n",
    "        <mo>=</mo>\n",
    "        <mrow class=\"MJX-TeXAtom-ORD\">\n",
    "          <mrow>\n",
    "            <mo>[</mo>\n",
    "            <mtable rowspacing=\"4pt\" columnspacing=\"1em\">\n",
    "              <mtr>\n",
    "                <mtd>\n",
    "                  <msub>\n",
    "                    <mi>a</mi>\n",
    "                    <mrow class=\"MJX-TeXAtom-ORD\">\n",
    "                      <mn>11</mn>\n",
    "                    </mrow>\n",
    "                  </msub>\n",
    "                </mtd>\n",
    "                <mtd>\n",
    "                  <msub>\n",
    "                    <mi>a</mi>\n",
    "                    <mrow class=\"MJX-TeXAtom-ORD\">\n",
    "                      <mn>12</mn>\n",
    "                    </mrow>\n",
    "                  </msub>\n",
    "                </mtd>\n",
    "                <mtd>\n",
    "                  <msub>\n",
    "                    <mi>a</mi>\n",
    "                    <mrow class=\"MJX-TeXAtom-ORD\">\n",
    "                      <mn>13</mn>\n",
    "                    </mrow>\n",
    "                  </msub>\n",
    "                </mtd>\n",
    "              </mtr>\n",
    "              <mtr>\n",
    "                <mtd>\n",
    "                  <msub>\n",
    "                    <mi>a</mi>\n",
    "                    <mrow class=\"MJX-TeXAtom-ORD\">\n",
    "                      <mn>21</mn>\n",
    "                    </mrow>\n",
    "                  </msub>\n",
    "                </mtd>\n",
    "                <mtd>\n",
    "                  <msub>\n",
    "                    <mi>a</mi>\n",
    "                    <mrow class=\"MJX-TeXAtom-ORD\">\n",
    "                      <mn>22</mn>\n",
    "                    </mrow>\n",
    "                  </msub>\n",
    "                </mtd>\n",
    "                <mtd>\n",
    "                  <msub>\n",
    "                    <mi>a</mi>\n",
    "                    <mrow class=\"MJX-TeXAtom-ORD\">\n",
    "                      <mn>23</mn>\n",
    "                    </mrow>\n",
    "                  </msub>\n",
    "                </mtd>\n",
    "              </mtr>\n",
    "            </mtable>\n",
    "            <mo>]</mo>\n",
    "          </mrow>\n",
    "        </mrow>\n",
    "      </mstyle>\n",
    "    </mrow>\n",
    "    <annotation encoding=\"application/x-tex\">{\\displaystyle A={\\begin{bmatrix}a_{11}&amp;a_{12}&amp;a_{13}\\\\a_{21}&amp;a_{22}&amp;a_{23}\\end{bmatrix}}}</annotation>\n",
    "  </semantics>\n",
    "</math></span><img src=\"https://wikimedia.org/api/rest_v1/media/math/render/svg/0d2606537373aed9f7c6240cc6c94efcce12c53a\" class=\"mwe-math-fallback-image-inline\" aria-hidden=\"true\" style=\"vertical-align: -2.505ex; width:22.011ex; height:6.176ex;\" alt=\"{\\displaystyle A={\\begin{bmatrix}a_{11}&amp;a_{12}&amp;a_{13}\\\\a_{21}&amp;a_{22}&amp;a_{23}\\end{bmatrix}}}\"></span></dd></dl>\n",
    "\n",
    "\n",
    "<div>\n",
    "<table class=\"wikitable\" style=\"text-align:center; width:250px\">\n",
    "<caption>Row-major order  (lexographical access order)\n",
    "</caption>\n",
    "<tbody><tr>\n",
    "<th>Address\n",
    "</th>\n",
    "<th>Access\n",
    "</th>\n",
    "<th>Value\n",
    "</th></tr>\n",
    "<tr>\n",
    "<th>0\n",
    "</th>\n",
    "<td><code>A[0][0]</code>\n",
    "</td>\n",
    "<td><span class=\"mwe-math-element\"><span class=\"mwe-math-mathml-inline mwe-math-mathml-a11y\" style=\"display: none;\"><math xmlns=\"http://www.w3.org/1998/Math/MathML\" alttext=\"{\\displaystyle a_{11}}\">\n",
    "  <semantics>\n",
    "    <mrow class=\"MJX-TeXAtom-ORD\">\n",
    "      <mstyle displaystyle=\"true\" scriptlevel=\"0\">\n",
    "        <msub>\n",
    "          <mi>a</mi>\n",
    "          <mrow class=\"MJX-TeXAtom-ORD\">\n",
    "            <mn>11</mn>\n",
    "          </mrow>\n",
    "        </msub>\n",
    "      </mstyle>\n",
    "    </mrow>\n",
    "    <annotation encoding=\"application/x-tex\">{\\displaystyle a_{11}}</annotation>\n",
    "  </semantics>\n",
    "</math></span><img src=\"https://wikimedia.org/api/rest_v1/media/math/render/svg/411c26881c752d514e61bfdd5eb8463c6e808202\" class=\"mwe-math-fallback-image-inline\" aria-hidden=\"true\" style=\"vertical-align: -0.671ex; width:3.106ex; height:2.009ex;\" alt=\"a_{11}\"></span>\n",
    "</td></tr>\n",
    "<tr>\n",
    "<th>1\n",
    "</th>\n",
    "<td><code>A[0][1]</code>\n",
    "</td>\n",
    "<td><span class=\"mwe-math-element\"><span class=\"mwe-math-mathml-inline mwe-math-mathml-a11y\" style=\"display: none;\"><math xmlns=\"http://www.w3.org/1998/Math/MathML\" alttext=\"{\\displaystyle a_{12}}\">\n",
    "  <semantics>\n",
    "    <mrow class=\"MJX-TeXAtom-ORD\">\n",
    "      <mstyle displaystyle=\"true\" scriptlevel=\"0\">\n",
    "        <msub>\n",
    "          <mi>a</mi>\n",
    "          <mrow class=\"MJX-TeXAtom-ORD\">\n",
    "            <mn>12</mn>\n",
    "          </mrow>\n",
    "        </msub>\n",
    "      </mstyle>\n",
    "    </mrow>\n",
    "    <annotation encoding=\"application/x-tex\">{\\displaystyle a_{12}}</annotation>\n",
    "  </semantics>\n",
    "</math></span><img src=\"https://wikimedia.org/api/rest_v1/media/math/render/svg/e062aea942fa88bbd0aa72d26f8fc011b323bf5e\" class=\"mwe-math-fallback-image-inline\" aria-hidden=\"true\" style=\"vertical-align: -0.671ex; width:3.106ex; height:2.009ex;\" alt=\"a_{12}\"></span>\n",
    "</td></tr>\n",
    "<tr>\n",
    "<th>2\n",
    "</th>\n",
    "<td><code>A[0][2]</code>\n",
    "</td>\n",
    "<td><span class=\"mwe-math-element\"><span class=\"mwe-math-mathml-inline mwe-math-mathml-a11y\" style=\"display: none;\"><math xmlns=\"http://www.w3.org/1998/Math/MathML\" alttext=\"{\\displaystyle a_{13}}\">\n",
    "  <semantics>\n",
    "    <mrow class=\"MJX-TeXAtom-ORD\">\n",
    "      <mstyle displaystyle=\"true\" scriptlevel=\"0\">\n",
    "        <msub>\n",
    "          <mi>a</mi>\n",
    "          <mrow class=\"MJX-TeXAtom-ORD\">\n",
    "            <mn>13</mn>\n",
    "          </mrow>\n",
    "        </msub>\n",
    "      </mstyle>\n",
    "    </mrow>\n",
    "    <annotation encoding=\"application/x-tex\">{\\displaystyle a_{13}}</annotation>\n",
    "  </semantics>\n",
    "</math></span><img src=\"https://wikimedia.org/api/rest_v1/media/math/render/svg/de4f86c305ff1b04fabb1cddcedd192853d6815c\" class=\"mwe-math-fallback-image-inline\" aria-hidden=\"true\" style=\"vertical-align: -0.671ex; width:3.106ex; height:2.009ex;\" alt=\"a_{{13}}\"></span>\n",
    "</td></tr>\n",
    "<tr>\n",
    "<th>3\n",
    "</th>\n",
    "<td><code>A[1][0]</code>\n",
    "</td>\n",
    "<td><span class=\"mwe-math-element\"><span class=\"mwe-math-mathml-inline mwe-math-mathml-a11y\" style=\"display: none;\"><math xmlns=\"http://www.w3.org/1998/Math/MathML\" alttext=\"{\\displaystyle a_{21}}\">\n",
    "  <semantics>\n",
    "    <mrow class=\"MJX-TeXAtom-ORD\">\n",
    "      <mstyle displaystyle=\"true\" scriptlevel=\"0\">\n",
    "        <msub>\n",
    "          <mi>a</mi>\n",
    "          <mrow class=\"MJX-TeXAtom-ORD\">\n",
    "            <mn>21</mn>\n",
    "          </mrow>\n",
    "        </msub>\n",
    "      </mstyle>\n",
    "    </mrow>\n",
    "    <annotation encoding=\"application/x-tex\">{\\displaystyle a_{21}}</annotation>\n",
    "  </semantics>\n",
    "</math></span><img src=\"https://wikimedia.org/api/rest_v1/media/math/render/svg/372531d1d09885784f3430660f8654b0d48eb394\" class=\"mwe-math-fallback-image-inline\" aria-hidden=\"true\" style=\"vertical-align: -0.671ex; width:3.106ex; height:2.009ex;\" alt=\"a_{21}\"></span>\n",
    "</td></tr>\n",
    "<tr>\n",
    "<th>4\n",
    "</th>\n",
    "<td><code>A[1][1]</code>\n",
    "</td>\n",
    "<td><span class=\"mwe-math-element\"><span class=\"mwe-math-mathml-inline mwe-math-mathml-a11y\" style=\"display: none;\"><math xmlns=\"http://www.w3.org/1998/Math/MathML\" alttext=\"{\\displaystyle a_{22}}\">\n",
    "  <semantics>\n",
    "    <mrow class=\"MJX-TeXAtom-ORD\">\n",
    "      <mstyle displaystyle=\"true\" scriptlevel=\"0\">\n",
    "        <msub>\n",
    "          <mi>a</mi>\n",
    "          <mrow class=\"MJX-TeXAtom-ORD\">\n",
    "            <mn>22</mn>\n",
    "          </mrow>\n",
    "        </msub>\n",
    "      </mstyle>\n",
    "    </mrow>\n",
    "    <annotation encoding=\"application/x-tex\">{\\displaystyle a_{22}}</annotation>\n",
    "  </semantics>\n",
    "</math></span><img src=\"https://wikimedia.org/api/rest_v1/media/math/render/svg/f7a66fac4dcd116c0dca38bd6cd9a805f62b69f4\" class=\"mwe-math-fallback-image-inline\" aria-hidden=\"true\" style=\"vertical-align: -0.671ex; width:3.106ex; height:2.009ex;\" alt=\"a_{{22}}\"></span>\n",
    "</td></tr>\n",
    "<tr>\n",
    "<th>5\n",
    "</th>\n",
    "<td><code>A[1][2]</code>\n",
    "</td>\n",
    "<td><span class=\"mwe-math-element\"><span class=\"mwe-math-mathml-inline mwe-math-mathml-a11y\" style=\"display: none;\"><math xmlns=\"http://www.w3.org/1998/Math/MathML\" alttext=\"{\\displaystyle a_{23}}\">\n",
    "  <semantics>\n",
    "    <mrow class=\"MJX-TeXAtom-ORD\">\n",
    "      <mstyle displaystyle=\"true\" scriptlevel=\"0\">\n",
    "        <msub>\n",
    "          <mi>a</mi>\n",
    "          <mrow class=\"MJX-TeXAtom-ORD\">\n",
    "            <mn>23</mn>\n",
    "          </mrow>\n",
    "        </msub>\n",
    "      </mstyle>\n",
    "    </mrow>\n",
    "    <annotation encoding=\"application/x-tex\">{\\displaystyle a_{23}}</annotation>\n",
    "  </semantics>\n",
    "</math></span><img src=\"https://wikimedia.org/api/rest_v1/media/math/render/svg/e214e4d1b4dcc0f3909e915fd69012c5bd1b7b7b\" class=\"mwe-math-fallback-image-inline\" aria-hidden=\"true\" style=\"vertical-align: -0.671ex; width:3.106ex; height:2.009ex;\" alt=\"{\\displaystyle a_{23}}\"></span>\n",
    "</td></tr></tbody></table>\n",
    "\n",
    "<table class=\"wikitable\" style=\"text-align:center; width:250px\">\n",
    "<caption>Column-major order  (colexographical access order)\n",
    "</caption>\n",
    "<tbody><tr>\n",
    "<th>Address\n",
    "</th>\n",
    "<th>Access\n",
    "</th>\n",
    "<th>Value\n",
    "</th></tr>\n",
    "<tr>\n",
    "<th>0\n",
    "</th>\n",
    "<td><code>A[0][0]</code>\n",
    "</td>\n",
    "<td><span class=\"mwe-math-element\"><span class=\"mwe-math-mathml-inline mwe-math-mathml-a11y\" style=\"display: none;\"><math xmlns=\"http://www.w3.org/1998/Math/MathML\" alttext=\"{\\displaystyle a_{11}}\">\n",
    "  <semantics>\n",
    "    <mrow class=\"MJX-TeXAtom-ORD\">\n",
    "      <mstyle displaystyle=\"true\" scriptlevel=\"0\">\n",
    "        <msub>\n",
    "          <mi>a</mi>\n",
    "          <mrow class=\"MJX-TeXAtom-ORD\">\n",
    "            <mn>11</mn>\n",
    "          </mrow>\n",
    "        </msub>\n",
    "      </mstyle>\n",
    "    </mrow>\n",
    "    <annotation encoding=\"application/x-tex\">{\\displaystyle a_{11}}</annotation>\n",
    "  </semantics>\n",
    "</math></span><img src=\"https://wikimedia.org/api/rest_v1/media/math/render/svg/411c26881c752d514e61bfdd5eb8463c6e808202\" class=\"mwe-math-fallback-image-inline\" aria-hidden=\"true\" style=\"vertical-align: -0.671ex; width:3.106ex; height:2.009ex;\" alt=\"a_{11}\"></span>\n",
    "</td></tr>\n",
    "<tr>\n",
    "<th>1\n",
    "</th>\n",
    "<td><code>A[1][0]</code>\n",
    "</td>\n",
    "<td><span class=\"mwe-math-element\"><span class=\"mwe-math-mathml-inline mwe-math-mathml-a11y\" style=\"display: none;\"><math xmlns=\"http://www.w3.org/1998/Math/MathML\" alttext=\"{\\displaystyle a_{21}}\">\n",
    "  <semantics>\n",
    "    <mrow class=\"MJX-TeXAtom-ORD\">\n",
    "      <mstyle displaystyle=\"true\" scriptlevel=\"0\">\n",
    "        <msub>\n",
    "          <mi>a</mi>\n",
    "          <mrow class=\"MJX-TeXAtom-ORD\">\n",
    "            <mn>21</mn>\n",
    "          </mrow>\n",
    "        </msub>\n",
    "      </mstyle>\n",
    "    </mrow>\n",
    "    <annotation encoding=\"application/x-tex\">{\\displaystyle a_{21}}</annotation>\n",
    "  </semantics>\n",
    "</math></span><img src=\"https://wikimedia.org/api/rest_v1/media/math/render/svg/372531d1d09885784f3430660f8654b0d48eb394\" class=\"mwe-math-fallback-image-inline\" aria-hidden=\"true\" style=\"vertical-align: -0.671ex; width:3.106ex; height:2.009ex;\" alt=\"a_{21}\"></span>\n",
    "</td></tr>\n",
    "<tr>\n",
    "<th>2\n",
    "</th>\n",
    "<td><code>A[0][1]</code>\n",
    "</td>\n",
    "<td><span class=\"mwe-math-element\"><span class=\"mwe-math-mathml-inline mwe-math-mathml-a11y\" style=\"display: none;\"><math xmlns=\"http://www.w3.org/1998/Math/MathML\" alttext=\"{\\displaystyle a_{12}}\">\n",
    "  <semantics>\n",
    "    <mrow class=\"MJX-TeXAtom-ORD\">\n",
    "      <mstyle displaystyle=\"true\" scriptlevel=\"0\">\n",
    "        <msub>\n",
    "          <mi>a</mi>\n",
    "          <mrow class=\"MJX-TeXAtom-ORD\">\n",
    "            <mn>12</mn>\n",
    "          </mrow>\n",
    "        </msub>\n",
    "      </mstyle>\n",
    "    </mrow>\n",
    "    <annotation encoding=\"application/x-tex\">{\\displaystyle a_{12}}</annotation>\n",
    "  </semantics>\n",
    "</math></span><img src=\"https://wikimedia.org/api/rest_v1/media/math/render/svg/e062aea942fa88bbd0aa72d26f8fc011b323bf5e\" class=\"mwe-math-fallback-image-inline\" aria-hidden=\"true\" style=\"vertical-align: -0.671ex; width:3.106ex; height:2.009ex;\" alt=\"a_{12}\"></span>\n",
    "</td></tr>\n",
    "<tr>\n",
    "<th>3\n",
    "</th>\n",
    "<td><code>A[1][1]</code>\n",
    "</td>\n",
    "<td><span class=\"mwe-math-element\"><span class=\"mwe-math-mathml-inline mwe-math-mathml-a11y\" style=\"display: none;\"><math xmlns=\"http://www.w3.org/1998/Math/MathML\" alttext=\"{\\displaystyle a_{22}}\">\n",
    "  <semantics>\n",
    "    <mrow class=\"MJX-TeXAtom-ORD\">\n",
    "      <mstyle displaystyle=\"true\" scriptlevel=\"0\">\n",
    "        <msub>\n",
    "          <mi>a</mi>\n",
    "          <mrow class=\"MJX-TeXAtom-ORD\">\n",
    "            <mn>22</mn>\n",
    "          </mrow>\n",
    "        </msub>\n",
    "      </mstyle>\n",
    "    </mrow>\n",
    "    <annotation encoding=\"application/x-tex\">{\\displaystyle a_{22}}</annotation>\n",
    "  </semantics>\n",
    "</math></span><img src=\"https://wikimedia.org/api/rest_v1/media/math/render/svg/f7a66fac4dcd116c0dca38bd6cd9a805f62b69f4\" class=\"mwe-math-fallback-image-inline\" aria-hidden=\"true\" style=\"vertical-align: -0.671ex; width:3.106ex; height:2.009ex;\" alt=\"a_{{22}}\"></span>\n",
    "</td></tr>\n",
    "<tr>\n",
    "<th>4\n",
    "</th>\n",
    "<td><code>A[0][2]</code>\n",
    "</td>\n",
    "<td><span class=\"mwe-math-element\"><span class=\"mwe-math-mathml-inline mwe-math-mathml-a11y\" style=\"display: none;\"><math xmlns=\"http://www.w3.org/1998/Math/MathML\" alttext=\"{\\displaystyle a_{13}}\">\n",
    "  <semantics>\n",
    "    <mrow class=\"MJX-TeXAtom-ORD\">\n",
    "      <mstyle displaystyle=\"true\" scriptlevel=\"0\">\n",
    "        <msub>\n",
    "          <mi>a</mi>\n",
    "          <mrow class=\"MJX-TeXAtom-ORD\">\n",
    "            <mn>13</mn>\n",
    "          </mrow>\n",
    "        </msub>\n",
    "      </mstyle>\n",
    "    </mrow>\n",
    "    <annotation encoding=\"application/x-tex\">{\\displaystyle a_{13}}</annotation>\n",
    "  </semantics>\n",
    "</math></span><img src=\"https://wikimedia.org/api/rest_v1/media/math/render/svg/de4f86c305ff1b04fabb1cddcedd192853d6815c\" class=\"mwe-math-fallback-image-inline\" aria-hidden=\"true\" style=\"vertical-align: -0.671ex; width:3.106ex; height:2.009ex;\" alt=\"a_{{13}}\"></span>\n",
    "</td></tr>\n",
    "<tr>\n",
    "<th>5\n",
    "</th>\n",
    "<td><code>A[1][2]</code>\n",
    "</td>\n",
    "<td><span class=\"mwe-math-element\"><span class=\"mwe-math-mathml-inline mwe-math-mathml-a11y\" style=\"display: none;\"><math xmlns=\"http://www.w3.org/1998/Math/MathML\" alttext=\"{\\displaystyle a_{23}}\">\n",
    "  <semantics>\n",
    "    <mrow class=\"MJX-TeXAtom-ORD\">\n",
    "      <mstyle displaystyle=\"true\" scriptlevel=\"0\">\n",
    "        <msub>\n",
    "          <mi>a</mi>\n",
    "          <mrow class=\"MJX-TeXAtom-ORD\">\n",
    "            <mn>23</mn>\n",
    "          </mrow>\n",
    "        </msub>\n",
    "      </mstyle>\n",
    "    </mrow>\n",
    "    <annotation encoding=\"application/x-tex\">{\\displaystyle a_{23}}</annotation>\n",
    "  </semantics>\n",
    "</math></span><img src=\"https://wikimedia.org/api/rest_v1/media/math/render/svg/e214e4d1b4dcc0f3909e915fd69012c5bd1b7b7b\" class=\"mwe-math-fallback-image-inline\" aria-hidden=\"true\" style=\"vertical-align: -0.671ex; width:3.106ex; height:2.009ex;\" alt=\"{\\displaystyle a_{23}}\"></span>\n",
    "</td></tr></tbody></table></div>"
   ]
  },
  {
   "cell_type": "code",
   "execution_count": 15,
   "metadata": {},
   "outputs": [],
   "source": [
    "import numpy as np "
   ]
  },
  {
   "cell_type": "code",
   "execution_count": 16,
   "metadata": {},
   "outputs": [
    {
     "name": "stdout",
     "output_type": "stream",
     "text": [
      "[1 2 3 4 5 6 7 8 9]\n",
      "\n",
      "\n",
      "[[1 2 3 4]\n",
      " [5 6 7 8]]\n"
     ]
    }
   ],
   "source": [
    "\n",
    "a = np.array([1,2,3,4,5,6,7,8,9]) \n",
    "print(a)\n",
    "print('\\n')\n",
    "b = np.array([[1,2,3,4],[5,6,7,8]]) \n",
    "\n",
    "\n",
    "print(b)\n",
    "\n"
   ]
  },
  {
   "cell_type": "markdown",
   "metadata": {},
   "source": [
    "if we have a multi dementional array :\n",
    "\n",
    "[[1,2,3],\n",
    "\n",
    "[4,5,6],\n",
    "\n",
    "[7,8,9]]\n",
    "\n",
    "row 1 : 1,4,7 , row 2 : 2,5,8 , row 3 : 3,6,9\n",
    "\n",
    "col 1 : 1,2,3 , col 3 : 4,5,6 , col 3 : 7,8,9"
   ]
  },
  {
   "cell_type": "code",
   "execution_count": 17,
   "metadata": {},
   "outputs": [
    {
     "name": "stdout",
     "output_type": "stream",
     "text": [
      "[[[[1 2 3 4 5]]]]\n"
     ]
    }
   ],
   "source": [
    "# minimum dimensions i.e. ndmin\n",
    "import numpy as np \n",
    "a = np.array([1, 2, 3,4,5], ndmin = 4) \n",
    "print(a)"
   ]
  },
  {
   "cell_type": "markdown",
   "metadata": {},
   "source": [
    "<h3>NumPy - Data Types</h3><br>\n",
    "NumPy supports a much greater variety of numerical types than Python does.\n",
    "\n",
    "NumPy numerical types are instances of dtype (data-type) objects, each having unique characteristics. The dtypes are available as np.bool_, np.float32, etc.\n",
    "\n",
    "<b>numpy.dtype(object, align, copy)</b>\n",
    "\n",
    "The parameters are −\n",
    "\n",
    "Object − To be converted to data type object\n",
    "\n",
    "Align − If true, adds padding to the field to make it similar to C-struct\n",
    "\n",
    "Copy − Makes a new copy of dtype object. If false, the result is reference to builtin data type object\n",
    "\n",
    "--------\n",
    "\n",
    "Each built-in data type has a character code that uniquely identifies it.\n",
    "\n",
    "'b' − boolean\n",
    "\n",
    "'i' − (signed) integer\n",
    "\n",
    "'u' − unsigned integer\n",
    "\n",
    "'f' − floating-point\n",
    "\n",
    "'c' − complex-floating point\n",
    "\n",
    "'m' − timedelta\n",
    "\n",
    "'M' − datetime\n",
    "\n",
    "'O' − (Python) objects\n",
    "\n",
    "'S', 'a' − (byte-)string\n",
    "\n",
    "'U' − Unicode\n",
    "\n",
    "'V' − raw data (void)"
   ]
  },
  {
   "cell_type": "code",
   "execution_count": 38,
   "metadata": {},
   "outputs": [
    {
     "name": "stdout",
     "output_type": "stream",
     "text": [
      "[(b'abc', 21, 50.) (b'xyz', 18, 75.)]\n",
      "[21 18]\n"
     ]
    }
   ],
   "source": [
    "student = np.dtype([('name','S20'), ('age', 'i'), ('marks', 'f')]) \n",
    "\n",
    "# S20 means a string with max 20 characters\n",
    "\n",
    "a = np.array([('abc', 21, 50),('xyz', 18, 75)], dtype = student) \n",
    "print(a)\n",
    "print (a['age'])"
   ]
  },
  {
   "cell_type": "markdown",
   "metadata": {},
   "source": [
    "<h3>NumPy - Array Attributes</h3>\n",
    "\n"
   ]
  },
  {
   "cell_type": "markdown",
   "metadata": {},
   "source": [
    "<h5>ndarray.shape"
   ]
  },
  {
   "cell_type": "code",
   "execution_count": 42,
   "metadata": {},
   "outputs": [
    {
     "name": "stdout",
     "output_type": "stream",
     "text": [
      "(2, 3)\n",
      "[[1 2]\n",
      " [3 4]\n",
      " [5 6]]\n"
     ]
    }
   ],
   "source": [
    "a = np.array([[1,2,3],[4,5,6]]) \n",
    "print(a.shape) #returns a tuple\n",
    "\n",
    "b = a.reshape(3,2) \n",
    "print(b)"
   ]
  },
  {
   "cell_type": "markdown",
   "metadata": {},
   "source": [
    "<h5>ndarray.ndim"
   ]
  },
  {
   "cell_type": "code",
   "execution_count": 51,
   "metadata": {},
   "outputs": [
    {
     "name": "stdout",
     "output_type": "stream",
     "text": [
      "1\n",
      "[ 0  1  2  3  4  5  6  7  8  9 10 11 12 13 14]\n",
      "2\n",
      "[[ 0  1  2  3  4]\n",
      " [ 5  6  7  8  9]\n",
      " [10 11 12 13 14]]\n"
     ]
    }
   ],
   "source": [
    "a = np.arange(15) \n",
    "print(a.ndim ) # returns the number of array dimensions i.e. one in this case\n",
    "print(a)\n",
    "\n",
    "b = a.reshape(3,5) \n",
    "print(b.ndim)\n",
    "print(b)"
   ]
  },
  {
   "cell_type": "markdown",
   "metadata": {},
   "source": [
    "<h5>numpy.itemsize</h5>\n",
    "This array attribute returns the length of each element of array in bytes.\n",
    "\n",
    "a.itemsize\n"
   ]
  },
  {
   "cell_type": "markdown",
   "metadata": {},
   "source": [
    "<h5>numpy.flags</h5>\n",
    "<table class=\"table table-bordered\">\n",
    "<tbody><tr>\n",
    "\n",
    "<th style=\"text-align:center;\">Attribute &amp; Description</th>\n",
    "</tr>\n",
    "<tr>\n",
    "\n",
    "<td><p><b>C_CONTIGUOUS (C)</b></p>\n",
    "<p>The data is in a single, C-style contiguous segment</p>\n",
    "</td>\n",
    "</tr>\n",
    "<tr>\n",
    "\n",
    "<td><p><b>F_CONTIGUOUS (F)</b></p>\n",
    "<p>The data is in a single, Fortran-style contiguous segment</p>\n",
    "</td>\n",
    "</tr>\n",
    "<tr>\n",
    "\n",
    "<td><p><b>OWNDATA (O)</b></p>\n",
    "<p>The array owns the memory it uses or borrows it from another object</p>\n",
    "</td>\n",
    "</tr>\n",
    "<tr>\n",
    "\n",
    "<td><p><b>WRITEABLE (W)</b></p>\n",
    "<p>The data area can be written to. Setting this to False locks the data, making it read-only</p>\n",
    "</td>\n",
    "</tr>\n",
    "<tr>\n",
    "\n",
    "<td><p><b>ALIGNED (A)</b></p>\n",
    "<p>The data and all elements are aligned appropriately for the hardware</p>\n",
    "</td>\n",
    "</tr>\n",
    "<tr>\n",
    "\n",
    "<td><p><b>UPDATEIFCOPY (U)</b></p>\n",
    "<p>This array is a copy of some other array. When this array is deallocated, the base array will be updated with the contents of this array</p>\n",
    "</td>\n",
    "</tr>\n",
    "</tbody></table>"
   ]
  },
  {
   "cell_type": "code",
   "execution_count": 55,
   "metadata": {},
   "outputs": [
    {
     "name": "stdout",
     "output_type": "stream",
     "text": [
      "[[ 0  1  2  3  4]\n",
      " [ 5  6  7  8  9]\n",
      " [10 11 12 13 14]]\n",
      "  C_CONTIGUOUS : True\n",
      "  F_CONTIGUOUS : False\n",
      "  OWNDATA : False\n",
      "  WRITEABLE : True\n",
      "  ALIGNED : True\n",
      "  WRITEBACKIFCOPY : False\n",
      "  UPDATEIFCOPY : False\n"
     ]
    }
   ],
   "source": [
    "a = np.arange(15).reshape(3,5)\n",
    "print(a)\n",
    "print(a.flags)"
   ]
  },
  {
   "cell_type": "markdown",
   "metadata": {},
   "source": [
    "<h3>NumPy - Array Creation Routines</h3>"
   ]
  },
  {
   "cell_type": "markdown",
   "metadata": {},
   "source": [
    "<h5>numpy.empty</h5>\n",
    "\n",
    "numpy.empty(shape, dtype = float, order = 'C')"
   ]
  },
  {
   "cell_type": "markdown",
   "metadata": {},
   "source": [
    "<h5>numpy.zeros</h5>\n",
    "\n",
    "numpy.zeros(shape, dtype = float, order = 'C')"
   ]
  },
  {
   "cell_type": "markdown",
   "metadata": {},
   "source": [
    "<h5>numpy.ones</h5>\n",
    "\n",
    "numpy.ones(shape, dtype = None, order = 'C')"
   ]
  },
  {
   "cell_type": "markdown",
   "metadata": {},
   "source": [
    "Order\n",
    "\n",
    "'C' for C-style row-major array, 'F' for FORTRAN style column-major array"
   ]
  },
  {
   "cell_type": "code",
   "execution_count": 67,
   "metadata": {},
   "outputs": [
    {
     "name": "stdout",
     "output_type": "stream",
     "text": [
      "[[9.60071790e-251 9.26319189e+303]\n",
      " [1.16848223e+304 1.40958277e-315]]\n",
      "\n",
      "\n",
      "[[0. 0. 0. 0. 0.]\n",
      " [0. 0. 0. 0. 0.]\n",
      " [0. 0. 0. 0. 0.]]\n",
      "\n",
      "\n",
      "[[[1. 1. 1. 1. 1.]\n",
      "  [1. 1. 1. 1. 1.]\n",
      "  [1. 1. 1. 1. 1.]\n",
      "  [1. 1. 1. 1. 1.]]\n",
      "\n",
      " [[1. 1. 1. 1. 1.]\n",
      "  [1. 1. 1. 1. 1.]\n",
      "  [1. 1. 1. 1. 1.]\n",
      "  [1. 1. 1. 1. 1.]]\n",
      "\n",
      " [[1. 1. 1. 1. 1.]\n",
      "  [1. 1. 1. 1. 1.]\n",
      "  [1. 1. 1. 1. 1.]\n",
      "  [1. 1. 1. 1. 1.]]]\n"
     ]
    }
   ],
   "source": [
    "a = np.empty([2,2])\n",
    "b = np.zeros([3,5])\n",
    "c = np.ones([3,4,5])\n",
    "\n",
    "print(a)\n",
    "print('\\n')\n",
    "print(b)\n",
    "print('\\n')\n",
    "print(c)\n"
   ]
  },
  {
   "cell_type": "markdown",
   "metadata": {},
   "source": [
    "<h3>NumPy - Array From Existing Data</h3>\n",
    "\n",
    "<h5>numpy.asarray</h5>\n",
    "\n",
    "This function is similar to numpy.array except for the fact that it has fewer parameters. This routine is useful for converting Python sequence into ndarray.\n",
    "\n",
    "a - Input data in any form such as list, list of tuples, tuples, tuple of tuples or tuple of lists\n",
    "\n"
   ]
  },
  {
   "cell_type": "code",
   "execution_count": 68,
   "metadata": {},
   "outputs": [
    {
     "name": "stdout",
     "output_type": "stream",
     "text": [
      "[1 2 3 4 5]\n"
     ]
    }
   ],
   "source": [
    "lis = [1,2,3,4,5]\n",
    "a = np.asarray(lis)\n",
    "print(a)"
   ]
  },
  {
   "cell_type": "markdown",
   "metadata": {},
   "source": [
    "<h3>NumPy - Array From Numerical Ranges</h3>"
   ]
  },
  {
   "cell_type": "markdown",
   "metadata": {},
   "source": [
    "<h5>numpy.arange</h5>\n",
    "\n",
    "ndarray object containing evenly spaced values within a given range.\n",
    "\n",
    "numpy.arange(start, stop, step, dtype)\n",
    "\n",
    "start - The start of an interval. If omitted, defaults to 0\n",
    "stop - The end of an interval (not including this number)\n",
    "step - Spacing between values, default is 1"
   ]
  },
  {
   "cell_type": "code",
   "execution_count": 71,
   "metadata": {},
   "outputs": [
    {
     "name": "stdout",
     "output_type": "stream",
     "text": [
      "[ 2  7 12 17]\n"
     ]
    }
   ],
   "source": [
    "a = np.arange(2,20,5)\n",
    "print(a)"
   ]
  },
  {
   "cell_type": "markdown",
   "metadata": {},
   "source": [
    "<h5>numpy.linspace</h5>\n",
    "\n",
    "numpy.linspace(start, stop, num, endpoint, retstep, dtype)\n",
    "\n",
    "<table class=\"table table-bordered\">\n",
    "<tbody><tr>\n",
    "\n",
    "<th style=\"text-align:center;\">Parameter &amp; Description</th>\n",
    "</tr>\n",
    "<tr>\n",
    "\n",
    "<td><p><b>start</b></p>\n",
    "<p>The starting value of the sequence</p>\n",
    "</td>\n",
    "</tr>\n",
    "<tr>\n",
    "\n",
    "<td><p><b>stop</b></p>\n",
    "<p>The end value of the sequence, included in the sequence if endpoint set to true</p>\n",
    "</td>\n",
    "</tr>\n",
    "<tr>\n",
    "\n",
    "<td><p><b>num</b></p>\n",
    "<p>The number of evenly spaced samples to be generated. Default is 50</p>\n",
    "</td>\n",
    "</tr>\n",
    "<tr>\n",
    "\n",
    "<td><p><b>endpoint</b></p>\n",
    "<p>True by default, hence the stop value is included in the sequence. If false, it is not included</p>\n",
    "</td>\n",
    "</tr>\n",
    "<tr>\n",
    "\n",
    "<td><p><b>retstep</b></p>\n",
    "<p>If true, returns samples and step between the consecutive numbers</p>\n",
    "</td>\n",
    "</tr>\n",
    "<tr>\n",
    "\n",
    "<td><p><b>dtype</b></p>\n",
    "<p>Data type of output <b>ndarray</b></p>\n",
    "</td>\n",
    "</tr>\n",
    "</tbody></table>"
   ]
  },
  {
   "cell_type": "code",
   "execution_count": 81,
   "metadata": {},
   "outputs": [
    {
     "name": "stdout",
     "output_type": "stream",
     "text": [
      "[ 5. 10. 15. 20.]\n",
      "[ 5.    8.75 12.5  16.25]\n",
      "(array([ 5., 10., 15., 20.]), 5.0)\n"
     ]
    }
   ],
   "source": [
    "a = np.linspace(5,20,4)\n",
    "print(a)\n",
    "\n",
    "a = np.linspace(5,20,4,endpoint = False)\n",
    "print(a)\n",
    "\n",
    "a = np.linspace(5,20,4,retstep = True)\n",
    "print(a)"
   ]
  },
  {
   "cell_type": "markdown",
   "metadata": {},
   "source": [
    "<h3>NumPy - Indexing & Slicing</h3>\n",
    "\n",
    "slice object is constructed by giving start, stop, and step parameters"
   ]
  },
  {
   "cell_type": "code",
   "execution_count": 103,
   "metadata": {},
   "outputs": [
    {
     "name": "stdout",
     "output_type": "stream",
     "text": [
      "[1 2 3 4 5 6 7 8 9]\n",
      "\n",
      "\n",
      "[1 3 5]\n",
      "\n",
      "\n",
      "[1 3 5]\n",
      "6\n",
      "[3 4 5 6 7 8]\n"
     ]
    }
   ],
   "source": [
    "a = (np.arange(1,10))\n",
    "\n",
    "b = slice(0,5,2)\n",
    "\n",
    "print(a)\n",
    "print('\\n')\n",
    "print(a[b])\n",
    "print('\\n')\n",
    "\n",
    "# shorthand notation more preferred\n",
    "c = a[0:5:2]\n",
    "print(c)\n",
    "\n",
    "c = a[5]\n",
    "print((c))\n",
    "\n",
    "c = a[2:8]\n",
    "print(c)\n"
   ]
  },
  {
   "cell_type": "code",
   "execution_count": 120,
   "metadata": {},
   "outputs": [
    {
     "name": "stdout",
     "output_type": "stream",
     "text": [
      "[[1 2 3]\n",
      " [4 5 6]\n",
      " [7 8 9]]\n",
      "\n",
      "\n",
      "[[4 5 6]\n",
      " [7 8 9]]\n",
      "\n",
      "\n",
      "[[2 3]\n",
      " [5 6]\n",
      " [8 9]]\n",
      "\n",
      "\n",
      "[4 5]\n"
     ]
    }
   ],
   "source": [
    "# multidimentional arrays\n",
    "a = (np.arange(1,10)).reshape(3,3)\n",
    "print(a)\n",
    "print('\\n')\n",
    "\n",
    "c = a[1:,]\n",
    "print(c)\n",
    "print('\\n')\n",
    "c = a[...,1:]\n",
    "print(c)\n",
    "print('\\n')\n",
    "# ... means everything in that row/column can be replaced by 0:\n",
    "c = a[1,0:2]\n",
    "print(c)"
   ]
  },
  {
   "cell_type": "markdown",
   "metadata": {},
   "source": [
    "<h5>Boolean Array Indexing"
   ]
  },
  {
   "cell_type": "code",
   "execution_count": 128,
   "metadata": {},
   "outputs": [
    {
     "name": "stdout",
     "output_type": "stream",
     "text": [
      "[[1 2 3]\n",
      " [4 5 6]\n",
      " [7 8 9]]\n",
      "\n",
      "[6 7 8 9]\n",
      "[1 2 3 4 5]\n"
     ]
    }
   ],
   "source": [
    "print(a)\n",
    "print()\n",
    "print (a[a > 5])\n",
    "print(a[~(a > 5)])"
   ]
  },
  {
   "cell_type": "markdown",
   "metadata": {},
   "source": [
    "<h3>NumPy - Broadcasting</h3>\n",
    "\n",
    "The term broadcasting refers to the ability of NumPy to treat arrays of different shapes during arithmetic operations."
   ]
  },
  {
   "cell_type": "code",
   "execution_count": 132,
   "metadata": {},
   "outputs": [
    {
     "name": "stdout",
     "output_type": "stream",
     "text": [
      "[ 10  40  90 160]\n",
      "\n",
      "[[ 1  2  3  4]\n",
      " [11 22 33 44]\n",
      " [21 32 43 54]]\n",
      "\n"
     ]
    }
   ],
   "source": [
    "a = np.array([1,2,3,4]) \n",
    "b = np.array([10,20,30,40]) \n",
    "c = a * b \n",
    "print(c)\n",
    "print()\n",
    "\n",
    "b = [[0,0,0,0],[10,20,30,40],[20,30,40,50]]\n",
    "c = a + b\n",
    "print(c)\n",
    "print()\n",
    "\n"
   ]
  },
  {
   "cell_type": "markdown",
   "metadata": {},
   "source": [
    "<h3>NumPy - Iterating Over Array</h3>\n",
    "\n",
    "iterator object numpy.nditer"
   ]
  },
  {
   "cell_type": "code",
   "execution_count": 158,
   "metadata": {},
   "outputs": [
    {
     "name": "stdout",
     "output_type": "stream",
     "text": [
      "[[1 2 3]\n",
      " [4 5 6]\n",
      " [7 8 9]]\n",
      "\n",
      "1  2  3  4  5  6  7  8  9  "
     ]
    }
   ],
   "source": [
    "a = (np.arange(1,10)).reshape(3,3)\n",
    "print(a)\n",
    "print()\n",
    "\n",
    "# end = '' in a print statement is default \\n so we change it to ' ' to make the next print continue in the same line\n",
    "for x in np.nditer(a):\n",
    "    print(x,end=\"  \")\n"
   ]
  },
  {
   "cell_type": "markdown",
   "metadata": {},
   "source": [
    "<h5>Changing the order of the matrix will change the itterator object to itterate in a row-major or a column-major style</h5>"
   ]
  },
  {
   "cell_type": "code",
   "execution_count": 164,
   "metadata": {},
   "outputs": [
    {
     "name": "stdout",
     "output_type": "stream",
     "text": [
      "[1 2 3 4 5 6 7 8 9]  \n",
      "1  4  7  2  5  8  3  6  9  "
     ]
    }
   ],
   "source": [
    "\n",
    "for x in np.nditer(a,order = 'C'):\n",
    "    print(x,end ='  ')\n",
    "print()\n",
    "for x in np.nditer(a,order = 'F'):\n",
    "    print(x,end ='  ')"
   ]
  },
  {
   "cell_type": "code",
   "execution_count": 165,
   "metadata": {},
   "outputs": [
    {
     "name": "stdout",
     "output_type": "stream",
     "text": [
      "[1 4 7]  [2 5 8]  [3 6 9]  "
     ]
    }
   ],
   "source": [
    "for x in np.nditer(a, flags = ['external_loop'] ,order = 'F'):\n",
    "    print(x, end = '  ')"
   ]
  },
  {
   "cell_type": "markdown",
   "metadata": {},
   "source": [
    "<h5>Broadcasting Iteration</h5>"
   ]
  },
  {
   "cell_type": "code",
   "execution_count": 172,
   "metadata": {},
   "outputs": [
    {
     "name": "stdout",
     "output_type": "stream",
     "text": [
      "[[1 2 3]\n",
      " [4 5 6]\n",
      " [7 8 9]]\n",
      "\n",
      "[[10 20 30]\n",
      " [40 50 60]\n",
      " [70 80 90]]\n",
      "\n",
      "11   22   33   44   55   66   77   88   99   "
     ]
    }
   ],
   "source": [
    "print(a, end = '\\n\\n')\n",
    "b = (np.arange(10,100,10)).reshape(3,3)\n",
    "print(b , end = '\\n\\n')\n",
    "for x,y in np.nditer([a,b]): \n",
    "    print(x+y, end ='   '),"
   ]
  },
  {
   "cell_type": "markdown",
   "metadata": {},
   "source": [
    "<h3>NumPy - Array Manipulation</h3>\n",
    "\n",
    "<table class=\"table table-bordered\">\n",
    "<tbody><tr>\n",
    "<th style=\"text-align:center; width:10%;\">Sr.No.</th>\n",
    "<th style=\"text-align:center;\">Shape &amp; Description</th>\n",
    "</tr>\n",
    "<tr>\n",
    "<td class=\"ts\">1</td>\n",
    "<td><a href=\"/numpy/numpy_reshape.htm\">reshape</a>\n",
    "<p>Gives a new shape to an array without changing its data</p>\n",
    "</td>\n",
    "</tr>\n",
    "<tr>\n",
    "<td class=\"ts\">2</td>\n",
    "<td><a href=\"/numpy/numpy_ndarray_flat.htm\">flat</a>\n",
    "<p>A 1-D iterator over the array</p>\n",
    "</td>\n",
    "</tr>\n",
    "<tr>\n",
    "<td class=\"ts\">3</td>\n",
    "<td><a href=\"/numpy/numpy_ndarray_flatten.htm\">flatten</a>\n",
    "<p>Returns a copy of the array collapsed into one dimension</p>\n",
    "</td>\n",
    "</tr>\n",
    "<tr>\n",
    "<td class=\"ts\">4</td>\n",
    "<td><a href=\"/numpy/numpy_ndarray_ravel.htm\">ravel</a>\n",
    "<p>Returns a contiguous flattened array</p>\n",
    "</td>\n",
    "</tr>\n",
    "</tbody></table>\n",
    "\n",
    "\n",
    "<table class=\"table table-bordered\">\n",
    "<tbody><tr>\n",
    "<th style=\"text-align:center; width:10%;\">Sr.No.</th>\n",
    "<th style=\"text-align:center;\">Operation &amp; Description</th>\n",
    "</tr>\n",
    "<tr>\n",
    "<td class=\"ts\">1</td>\n",
    "<td><a href=\"/numpy/numpy_transpose.htm\">transpose</a>\n",
    "<p>Permutes the dimensions of an array</p>\n",
    "</td>\n",
    "</tr>\n",
    "<tr>\n",
    "<td class=\"ts\">2</td>\n",
    "<td><a href=\"/numpy/numpy_ndarray_t.htm\">ndarray.T</a>\n",
    "<p>Same as self.transpose()</p>\n",
    "</td>\n",
    "</tr>\n",
    "<tr>\n",
    "<td class=\"ts\">3</td>\n",
    "<td><a href=\"/numpy/numpy_rollaxis.htm\">rollaxis</a>\n",
    "<p>Rolls the specified axis backwards</p>\n",
    "</td>\n",
    "</tr>\n",
    "<tr>\n",
    "<td class=\"ts\">4</td>\n",
    "<td><a href=\"/numpy/numpy_swapaxes.htm\">swapaxes</a>\n",
    "<p>Interchanges the two axes of an array</p>\n",
    "</td>\n",
    "</tr>\n",
    "</tbody></table>\n",
    "\n",
    "\n",
    "<table class=\"table table-bordered\">\n",
    "<tbody><tr>\n",
    "<th style=\"text-align:center; width:10%;\">Sr.No.</th>\n",
    "<th style=\"text-align:center;\">Dimension &amp; Description</th>\n",
    "</tr>\n",
    "<tr>\n",
    "<td class=\"ts\">1</td>\n",
    "<td><a href=\"/numpy/numpy_broadcast.htm\">broadcast</a>\n",
    "<p>Produces an object that mimics broadcasting</p>\n",
    "</td>\n",
    "</tr>\n",
    "<tr>\n",
    "<td class=\"ts\">2</td>\n",
    "<td><a href=\"/numpy/numpy_broadcast_to.htm\">broadcast_to</a>\n",
    "<p>Broadcasts an array to a new shape</p>\n",
    "</td>\n",
    "</tr>\n",
    "<tr>\n",
    "<td class=\"ts\">3</td>\n",
    "<td><a href=\"/numpy/numpy_expand_dims.htm\">expand_dims</a>\n",
    "<p>Expands the shape of an array</p>\n",
    "</td>\n",
    "</tr>\n",
    "<tr>\n",
    "<td class=\"ts\">4</td>\n",
    "<td><a href=\"/numpy/numpy_squeeze.htm\">squeeze</a>\n",
    "<p>Removes single-dimensional entries from the shape of an array</p>\n",
    "</td>\n",
    "</tr>\n",
    "</tbody></table>\n",
    "\n",
    "\n",
    "<table class=\"table table-bordered\">\n",
    "<tbody><tr>\n",
    "<th style=\"text-align:center; width:10%;\">Sr.No.</th>\n",
    "<th style=\"text-align:center;\">Array &amp; Description</th>\n",
    "</tr>\n",
    "<tr>\n",
    "<td class=\"ts\">1</td>\n",
    "<td><a href=\"/numpy/numpy_concatenate.htm\">concatenate</a>\n",
    "<p>Joins a sequence of arrays along an existing axis</p>\n",
    "</td>\n",
    "</tr>\n",
    "<tr>\n",
    "<td class=\"ts\">2</td>\n",
    "<td><a href=\"/numpy/numpy_stack.htm\">stack</a>\n",
    "<p>Joins a sequence of arrays along a new axis</p>\n",
    "</td>\n",
    "</tr>\n",
    "<tr>\n",
    "<td class=\"ts\">3</td>\n",
    "<td><a href=\"/numpy/numpy_hstack.htm\">hstack</a>\n",
    "<p>Stacks arrays in sequence horizontally (column wise)</p>\n",
    "</td>\n",
    "</tr>\n",
    "<tr>\n",
    "<td class=\"ts\">4</td>\n",
    "<td><a href=\"/numpy/numpy_vstack.htm\">vstack</a>\n",
    "<p>Stacks arrays in sequence vertically (row wise)</p>\n",
    "</td>\n",
    "</tr>\n",
    "</tbody></table>\n",
    "<table class=\"table table-bordered\">\n",
    "<tbody><tr>\n",
    "<th style=\"text-align:center; width:10%;\">Sr.No.</th>\n",
    "<th style=\"text-align:center;\">Array &amp; Description</th>\n",
    "</tr>\n",
    "<tr>\n",
    "<td class=\"ts\">1</td>\n",
    "<td><a href=\"/numpy/numpy_split.htm\">split</a>\n",
    "<p>Splits an array into multiple sub-arrays</p>\n",
    "</td>\n",
    "</tr>\n",
    "<tr>\n",
    "<td class=\"ts\">2</td>\n",
    "<td><a href=\"/numpy/numpy_hsplit.htm\">hsplit</a>\n",
    "<p>Splits an array into multiple sub-arrays horizontally (column-wise)</p>\n",
    "</td>\n",
    "</tr>\n",
    "<tr>\n",
    "<td class=\"ts\">3</td>\n",
    "<td><a href=\"/numpy/numpy_vsplit.htm\">vsplit</a>\n",
    "<p>Splits an array into multiple sub-arrays vertically (row-wise)</p>\n",
    "</td>\n",
    "</tr>\n",
    "</tbody></table>\n",
    "\n",
    "<table class=\"table table-bordered\">\n",
    "<tbody><tr>\n",
    "<th style=\"text-align:center; width:10%;\">Sr.No.</th>\n",
    "<th style=\"text-align:center;\">Element &amp; Description</th>\n",
    "</tr>\n",
    "<tr>\n",
    "<td class=\"ts\">1</td>\n",
    "<td><a href=\"/numpy/numpy_resize.htm\">resize</a>\n",
    "<p>Returns a new array with the specified shape</p>\n",
    "</td>\n",
    "</tr>\n",
    "<tr>\n",
    "<td class=\"ts\">2</td>\n",
    "<td><a href=\"/numpy/numpy_append.htm\">append</a>\n",
    "<p>Appends the values to the end of an array</p>\n",
    "</td>\n",
    "</tr>\n",
    "<tr>\n",
    "<td class=\"ts\">3</td>\n",
    "<td><a href=\"/numpy/numpy_insert.htm\">insert</a>\n",
    "<p>Inserts the values along the given axis before the given indices</p>\n",
    "</td>\n",
    "</tr>\n",
    "<tr>\n",
    "<td class=\"ts\">4</td>\n",
    "<td><a href=\"/numpy/numpy_delete.htm\">delete</a>\n",
    "<p>Returns a new array with sub-arrays along an axis deleted</p>\n",
    "</td>\n",
    "</tr>\n",
    "<tr>\n",
    "<td class=\"ts\">5</td>\n",
    "<td><a href=\"/numpy/numpy_unique.htm\">unique</a>\n",
    "<p>Finds the unique elements of an array</p>\n",
    "</td>\n",
    "</tr>\n",
    "</tbody></table>"
   ]
  },
  {
   "cell_type": "markdown",
   "metadata": {},
   "source": [
    "<h3> Math and Statistical Functions:</h3>\n",
    "\n",
    "\n",
    "------------\n",
    "numpy.floor(nparray)\n",
    "\n",
    "\n",
    "numpy.ceil(nparray)\n",
    "\n",
    "\n",
    "numpy.add(nparray)\n",
    "\n",
    "\n",
    "numpy.subtract(nparray)\n",
    "\n",
    "\n",
    "numpy.multuply(nparray)\n",
    "\n",
    "\n",
    "numpy.divide(nparray)\n",
    "\n",
    "\n",
    "numpy.power(nparray,nparray)\n",
    "\n",
    "---------\n",
    "\n",
    "\n",
    "numpy.amin(nparray,axis=0)\n",
    "\n",
    "\n",
    "numpy.amax(nparray,axis=0)\n",
    "\n",
    "\n",
    "<u>axis is optional, </u>\n",
    "\n",
    "if not used the functions returns man/mi from the entile array \n",
    "\n",
    "if used ( 0 - row-wise , 1 - column-wise ) then it will give max/min of eachrow/column\n",
    "\n",
    "\n",
    "numpy.argmax() and numpy.argmin() - functions that return the indices of the max/min in an array\n",
    "\n",
    "\n",
    "---------\n",
    "\n",
    "\n",
    "numpy.percentile(nparray,range,axis)\n",
    "\n",
    "<u>range and axis is optional</u>\n",
    "\n",
    "range - the range in which your percentile would lie, default: 0-100\n",
    "\n",
    "\n",
    "---------\n",
    "\n",
    "\n",
    "\n",
    "numpy.median(nparray,axis=0)\n",
    "\n",
    "numpy.mean(nparray,axis=0)\n",
    "\n",
    "numpy.average(nparray,axis=0)\n",
    "\n",
    "numpy.std(nparray,axis=0)\n",
    "\n",
    "numpy.var(nparray,axis=0)\n",
    "\n"
   ]
  },
  {
   "cell_type": "markdown",
   "metadata": {},
   "source": [
    "<h3>Sort, Search And Counting Functions</h3>\n",
    "\n",
    "-------\n",
    "\n",
    "\n",
    "numpy.sort(a, axis, kind, order)\n",
    "\n",
    "kind - ‘quicksort’ , ‘mergesort’ , ‘heapsort’  -  default: ‘quicksort’\n",
    "\n",
    "order - If the array contains fields, the order of fields to be sorted (i.e. once set in dtype)\n",
    "\n",
    "-------\n",
    "\n",
    "\n",
    "numpy.nonzero(nparray,axis=0)\n",
    "\n",
    "\n",
    "The numpy.nonzero() function returns the indices of non-zero elements in the input array.\n",
    "\n",
    "\n",
    "-------\n",
    "\n",
    "\n",
    "numpy.extract(condition, nparray)\n",
    "\n",
    "\n",
    "The extract() function returns the elements satisfying any condition.\n",
    "\n"
   ]
  },
  {
   "cell_type": "markdown",
   "metadata": {},
   "source": [
    "<h3>NumPy - Copies And Views</h3>\n"
   ]
  },
  {
   "cell_type": "markdown",
   "metadata": {},
   "source": [
    "<b>No Copy"
   ]
  },
  {
   "cell_type": "code",
   "execution_count": 179,
   "metadata": {},
   "outputs": [
    {
     "name": "stdout",
     "output_type": "stream",
     "text": [
      "[1, 2, 3, 4, 99]\n",
      "[1, 2, 3, 4, 99]\n"
     ]
    }
   ],
   "source": [
    "a = [1,2,3,4,5]\n",
    "b = a\n",
    "b[4] = 99\n",
    "print(a)\n",
    "print(b)"
   ]
  },
  {
   "cell_type": "markdown",
   "metadata": {},
   "source": [
    "<b>Shallow copy"
   ]
  },
  {
   "cell_type": "code",
   "execution_count": 183,
   "metadata": {},
   "outputs": [
    {
     "name": "stdout",
     "output_type": "stream",
     "text": [
      "[1, 2, 3, 4, 5]\n",
      "[1, 2, 3, 4, 99]\n"
     ]
    }
   ],
   "source": [
    "a = [1,2,3,4,5]\n",
    "b = a[:]\n",
    "b[4] = 99\n",
    "print(a)\n",
    "print(b)"
   ]
  },
  {
   "cell_type": "markdown",
   "metadata": {},
   "source": [
    "<b>Deep copy"
   ]
  },
  {
   "cell_type": "code",
   "execution_count": 182,
   "metadata": {},
   "outputs": [
    {
     "name": "stdout",
     "output_type": "stream",
     "text": [
      "[1, 2, 3, 4, 5]\n",
      "[1, 2, 3, 4, 99]\n"
     ]
    }
   ],
   "source": [
    "a = [1,2,3,4,5]\n",
    "b = a.copy() \n",
    "b[4] = 99\n",
    "print(a)\n",
    "print(b)"
   ]
  },
  {
   "cell_type": "markdown",
   "metadata": {},
   "source": [
    "~ <b>Difference between Shallow and Deep copy:</b>\n",
    "\n",
    "\n",
    "if an array is a multidimentional array than shallow copy will only copy the outer list whereas referance the inner lists whereas deep copy will copy everything(no references)\n",
    "\n"
   ]
  },
  {
   "cell_type": "markdown",
   "metadata": {},
   "source": [
    "<h3>NumPy - Linear Algebra</h3>\n",
    "\n",
    "\n",
    "<table class=\"table table-bordered\">\n",
    "<tbody><tr>\n",
    "<th style=\"text-align:center;width:10%\">Sr.No.</th>\n",
    "<th style=\"text-align:center;\">Function &amp; Description</th>\n",
    "</tr>\n",
    "<tr>\n",
    "<td class=\"ts\">1</td>\n",
    "<td><a href=\"/numpy/numpy_dot.htm\">dot</a>\n",
    "<p>Dot product of the two arrays</p>\n",
    "</td>\n",
    "</tr>\n",
    "<tr>\n",
    "<td class=\"ts\">2</td>\n",
    "<td><a href=\"/numpy/numpy_vdot.htm\">vdot</a>\n",
    "<p>Dot product of the two vectors</p>\n",
    "</td>\n",
    "</tr>\n",
    "<tr>\n",
    "<td class=\"ts\">3</td>\n",
    "<td><a href=\"/numpy/numpy_inner.htm\">inner</a>\n",
    "<p>Inner product of the two arrays</p>\n",
    "</td>\n",
    "</tr>\n",
    "<tr>\n",
    "<td class=\"ts\">4</td>\n",
    "<td><a href=\"/numpy/numpy_matmul.htm\">matmul</a>\n",
    "<p>Matrix product of the two arrays</p>\n",
    "</td>\n",
    "</tr>\n",
    "<tr>\n",
    "<td class=\"ts\">5</td>\n",
    "<td><a href=\"/numpy/numpy_determinant.htm\">determinant</a>\n",
    "<p>Computes the determinant of the array</p>\n",
    "</td>\n",
    "</tr>\n",
    "<tr>\n",
    "<td class=\"ts\">6</td>\n",
    "<td><a href=\"/numpy/numpy_solve.htm\">solve</a>\n",
    "<p>Solves the linear matrix equation</p>\n",
    "</td>\n",
    "</tr>\n",
    "<tr>\n",
    "<td class=\"ts\">7</td>\n",
    "<td><a href=\"/numpy/numpy_inv.htm\">inv</a>\n",
    "<p>Finds the multiplicative inverse of the matrix</p>\n",
    "</td>\n",
    "</tr>\n",
    "</tbody></table>"
   ]
  },
  {
   "cell_type": "markdown",
   "metadata": {},
   "source": [
    "<h3>I/O with NumPy</h3>\n",
    "\n",
    "numpy.save() file stores the input array in a disk file with npy extension.\n",
    "\n",
    "numpy.load('filename.npy') \n",
    "\n",
    "svaing data as .txt:\n",
    "\n",
    "np.savetxt('out.txt',a) \n",
    "\n",
    "b = np.loadtxt('out.txt') "
   ]
  },
  {
   "cell_type": "markdown",
   "metadata": {},
   "source": [
    "<h3>References</h3>\n",
    "\n",
    " - https://www.tutorialspoint.com/\n",
    " \n",
    " - https://www.wikipedia.org\n",
    " \n",
    " - https://stackoverflow.com"
   ]
  }
 ],
 "metadata": {
  "kernelspec": {
   "display_name": "Python 3",
   "language": "python",
   "name": "python3"
  },
  "language_info": {
   "codemirror_mode": {
    "name": "ipython",
    "version": 3
   },
   "file_extension": ".py",
   "mimetype": "text/x-python",
   "name": "python",
   "nbconvert_exporter": "python",
   "pygments_lexer": "ipython3",
   "version": "3.7.1"
  }
 },
 "nbformat": 4,
 "nbformat_minor": 2
}
