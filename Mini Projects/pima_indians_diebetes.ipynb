{
 "cells": [
  {
   "cell_type": "markdown",
   "metadata": {},
   "source": [
    "3. Pima Indians Diabetes Dataset\n",
    "\n",
    "The Pima Indians Diabetes Dataset involves predicting the onset of diabetes within 5 years in Pima Indians given medical details.\n",
    "\n",
    "It is a binary (2-class) classification problem. The number of observations for each class is not balanced. There are 768 observations with 8 input variables and 1 output variable. Missing values are believed to be encoded with zero values. The variable names are as follows:\n",
    "\n",
    "Number of times pregnant.\n",
    "Plasma glucose concentration a 2 hours in an oral glucose tolerance test.\n",
    "Diastolic blood pressure (mm Hg).\n",
    "Triceps skinfold thickness (mm).\n",
    "2-Hour serum insulin (mu U/ml).\n",
    "Body mass index (weight in kg/(height in m)^2).\n",
    "Diabetes pedigree function.\n",
    "Age (years).\n",
    "Class variable (0 or 1).\n",
    "The baseline performance of predicting the most prevalent class is a classification accuracy of approximately 65%. Top results achieve a classification accuracy of approximately 77%.\n",
    "\n"
   ]
  },
  {
   "cell_type": "code",
   "execution_count": 269,
   "metadata": {},
   "outputs": [
    {
     "name": "stdout",
     "output_type": "stream",
     "text": [
      "Processed 768 lines.\n"
     ]
    }
   ],
   "source": [
    "import csv\n",
    "\n",
    "rawdata = []\n",
    "with open(\"data/pima_indians_diebetes/pima-indians-diabetes.data.csv\") as csv_file:\n",
    "    csv_reader = csv.reader(csv_file, delimiter=',')\n",
    "    line_count = 0\n",
    "    for row in csv_reader:\n",
    "            rawdata.append(row)\n",
    "            line_count += 1\n",
    "    print(f'Processed {line_count} lines.')"
   ]
  },
  {
   "cell_type": "code",
   "execution_count": 270,
   "metadata": {},
   "outputs": [],
   "source": [
    "import numpy as np\n",
    "import matplotlib.pyplot as plt\n"
   ]
  },
  {
   "cell_type": "code",
   "execution_count": 271,
   "metadata": {},
   "outputs": [],
   "source": [
    "rawdata = np.array(rawdata)"
   ]
  },
  {
   "cell_type": "code",
   "execution_count": 272,
   "metadata": {},
   "outputs": [],
   "source": [
    "x_raw = rawdata[:,0:8]\n",
    "y_raw = rawdata[:,8]\n",
    "# for row in x_raw:\n",
    "#     print(row)"
   ]
  },
  {
   "cell_type": "code",
   "execution_count": 273,
   "metadata": {},
   "outputs": [],
   "source": [
    "x_raw = x_raw.astype(float)\n",
    "y_raw = y_raw.astype(float)"
   ]
  },
  {
   "cell_type": "code",
   "execution_count": 274,
   "metadata": {},
   "outputs": [
    {
     "name": "stdout",
     "output_type": "stream",
     "text": [
      "(768, 8)\n",
      "(768,)\n"
     ]
    }
   ],
   "source": [
    "# for row in x_raw:\n",
    "#     print(row)\n",
    "print(x_raw.shape)\n",
    "print(y_raw.shape)"
   ]
  },
  {
   "cell_type": "code",
   "execution_count": 275,
   "metadata": {},
   "outputs": [
    {
     "name": "stdout",
     "output_type": "stream",
     "text": [
      "False\n",
      "False\n"
     ]
    }
   ],
   "source": [
    "x_isna = False\n",
    "y_isna = False\n",
    "for row in x_raw:\n",
    "    if(np.isnan(np.min(row)) == True):\n",
    "        x_isna =True\n",
    "        \n",
    "for row in y_raw:\n",
    "    if(np.isnan(np.min(row)) == True):\n",
    "        y_isna =True\n",
    "print(x_isna)\n",
    "print(y_isna)"
   ]
  },
  {
   "cell_type": "code",
   "execution_count": 276,
   "metadata": {},
   "outputs": [
    {
     "data": {
      "text/plain": [
       "<function matplotlib.pyplot.show(*args, **kw)>"
      ]
     },
     "execution_count": 276,
     "metadata": {},
     "output_type": "execute_result"
    },
    {
     "data": {
      "image/png": "[encoded data removed]",
      "text/plain": [
       "<Figure size 800x320 with 1 Axes>"
      ]
     },
     "metadata": {},
     "output_type": "display_data"
    }
   ],
   "source": [
    "plt.figure(num=None, figsize=(10, 4), dpi=80, facecolor='w', edgecolor='k')\n",
    "# plt.scatter(x_raw[:,0],y_raw,1,c = \"blue\")\n",
    "# plt.scatter(x_raw[:,1],y_raw,1,c = \"red\")\n",
    "# plt.scatter(x_raw[:,2],y_raw,1,c = \"green\")\n",
    "# plt.scatter(x_raw[:,3],y_raw,1,c = \"black\")\n",
    "plt.scatter(x_raw[:,4],y_raw,1,c = \"purple\")\n",
    "# plt.scatter(x_raw[:,5],y_raw,1,c = \"pink\")\n",
    "# plt.scatter(x_raw[:,6],y_raw,1,c = \"maroon\")\n",
    "# plt.scatter(x_raw[:,7],y_raw,1,c = \"green\")\n",
    "plt.yticks([0,1]) \n",
    "plt.show"
   ]
  },
  {
   "cell_type": "code",
   "execution_count": 277,
   "metadata": {},
   "outputs": [
    {
     "data": {
      "text/plain": [
       "79.79947916666667"
      ]
     },
     "execution_count": 277,
     "metadata": {},
     "output_type": "execute_result"
    }
   ],
   "source": [
    "np.mean(x_raw[:,4])"
   ]
  },
  {
   "cell_type": "code",
   "execution_count": 278,
   "metadata": {},
   "outputs": [
    {
     "ename": "ValueError",
     "evalue": "The truth value of an array with more than one element is ambiguous. Use a.any() or a.all()",
     "output_type": "error",
     "traceback": [
      "\u001b[0;31m---------------------------------------------------------------------------\u001b[0m",
      "\u001b[0;31mValueError\u001b[0m                                Traceback (most recent call last)",
      "\u001b[0;32m<ipython-input-278-224cb9d6d5f1>\u001b[0m in \u001b[0;36m<module>\u001b[0;34m\u001b[0m\n\u001b[0;32m----> 1\u001b[0;31m \u001b[0;34m[\u001b[0m\u001b[0mabs\u001b[0m \u001b[0;34m(\u001b[0m\u001b[0mx_raw\u001b[0m\u001b[0;34m[\u001b[0m\u001b[0;34m:\u001b[0m\u001b[0;34m,\u001b[0m\u001b[0;36m4\u001b[0m\u001b[0;34m]\u001b[0m \u001b[0;34m-\u001b[0m \u001b[0mnp\u001b[0m\u001b[0;34m.\u001b[0m\u001b[0mmean\u001b[0m\u001b[0;34m(\u001b[0m\u001b[0mx_raw\u001b[0m\u001b[0;34m[\u001b[0m\u001b[0;34m:\u001b[0m\u001b[0;34m,\u001b[0m\u001b[0;36m4\u001b[0m\u001b[0;34m]\u001b[0m\u001b[0;34m)\u001b[0m\u001b[0;34m)\u001b[0m \u001b[0;34m<\u001b[0m \u001b[0;36m1\u001b[0m \u001b[0;34m*\u001b[0m \u001b[0mnp\u001b[0m\u001b[0;34m.\u001b[0m\u001b[0mstd\u001b[0m\u001b[0;34m(\u001b[0m\u001b[0mx_raw\u001b[0m\u001b[0;34m[\u001b[0m\u001b[0;34m:\u001b[0m\u001b[0;34m,\u001b[0m\u001b[0;36m4\u001b[0m\u001b[0;34m]\u001b[0m\u001b[0;34m)\u001b[0m\u001b[0;34m]\u001b[0m\u001b[0;34m.\u001b[0m\u001b[0mindex\u001b[0m\u001b[0;34m(\u001b[0m\u001b[0;32mFalse\u001b[0m\u001b[0;34m)\u001b[0m\u001b[0;34m\u001b[0m\u001b[0;34m\u001b[0m\u001b[0m\n\u001b[0m",
      "\u001b[0;31mValueError\u001b[0m: The truth value of an array with more than one element is ambiguous. Use a.any() or a.all()"
     ]
    }
   ],
   "source": [
    "[abs (x_raw[:,4] - np.mean(x_raw[:,4])) < 1 * np.std(x_raw[:,4])].index(False)\n"
   ]
  },
  {
   "cell_type": "code",
   "execution_count": 279,
   "metadata": {},
   "outputs": [
    {
     "data": {
      "text/plain": [
       "(768, 8)"
      ]
     },
     "execution_count": 279,
     "metadata": {},
     "output_type": "execute_result"
    }
   ],
   "source": [
    "x_raw.shape"
   ]
  },
  {
   "cell_type": "code",
   "execution_count": 280,
   "metadata": {},
   "outputs": [
    {
     "data": {
      "text/plain": [
       "<function matplotlib.pyplot.show(*args, **kw)>"
      ]
     },
     "execution_count": 280,
     "metadata": {},
     "output_type": "execute_result"
    },
    {
     "data": {
      "image/png": "[encoded data removed]",
      "text/plain": [
       "<Figure size 800x320 with 1 Axes>"
      ]
     },
     "metadata": {},
     "output_type": "display_data"
    }
   ],
   "source": [
    "plt.figure(num=None, figsize=(10, 4), dpi=80, facecolor='w', edgecolor='k')\n",
    "# plt.scatter(x_raw[:,0],y_raw,1,c = \"blue\")\n",
    "# plt.scatter(x_raw[:,1],y_raw,1,c = \"red\")\n",
    "# plt.scatter(x_raw[:,2],y_raw,1,c = \"green\")\n",
    "# plt.scatter(x_raw[:,3],y_raw,1,c = \"black\")\n",
    "plt.scatter(x_raw[:,4],y_raw,1,c = \"purple\")\n",
    "# plt.scatter(x_raw[:,5],y_raw,1,c = \"pink\")\n",
    "# plt.scatter(x_raw[:,6],y_raw,1,c = \"maroon\")\n",
    "# plt.scatter(x_raw[:,7],y_raw,1,c = \"green\")\n",
    "plt.yticks([0,1]) \n",
    "plt.show"
   ]
  },
  {
   "cell_type": "code",
   "execution_count": 281,
   "metadata": {},
   "outputs": [],
   "source": [
    "from sklearn.model_selection import train_test_split\n",
    "\n",
    "x_train, x_test, y_train, y_test = train_test_split(x_raw, y_raw, test_size=0.3)"
   ]
  },
  {
   "cell_type": "code",
   "execution_count": 282,
   "metadata": {},
   "outputs": [],
   "source": [
    "from sklearn.linear_model import LogisticRegression"
   ]
  },
  {
   "cell_type": "code",
   "execution_count": 283,
   "metadata": {},
   "outputs": [
    {
     "name": "stderr",
     "output_type": "stream",
     "text": [
      "/Users/j/anaconda3/lib/python3.7/site-packages/sklearn/linear_model/logistic.py:433: FutureWarning: Default solver will be changed to 'lbfgs' in 0.22. Specify a solver to silence this warning.\n",
      "  FutureWarning)\n"
     ]
    }
   ],
   "source": [
    "clf1 = LogisticRegression().fit(x_train, y_train)"
   ]
  },
  {
   "cell_type": "code",
   "execution_count": 284,
   "metadata": {},
   "outputs": [
    {
     "name": "stdout",
     "output_type": "stream",
     "text": [
      "0.7746741154562383\n",
      "0.7792207792207793\n"
     ]
    }
   ],
   "source": [
    "print( clf1.score(x_train, y_train) )\n",
    "print( clf1.score(x_test, y_test) )"
   ]
  },
  {
   "cell_type": "code",
   "execution_count": 285,
   "metadata": {},
   "outputs": [
    {
     "data": {
      "text/plain": [
       "<function matplotlib.pyplot.show(*args, **kw)>"
      ]
     },
     "execution_count": 285,
     "metadata": {},
     "output_type": "execute_result"
    },
    {
     "data": {
      "image/png": "[encoded data removed]",
      "text/plain": [
       "<Figure size 800x320 with 1 Axes>"
      ]
     },
     "metadata": {},
     "output_type": "display_data"
    }
   ],
   "source": [
    "plt.figure(num=None, figsize=(10, 4), dpi=80, facecolor='w', edgecolor='k')\n",
    "plt.scatter(x_train[:,1],y_train,30,c = \"green\")\n",
    "plt.scatter(x_train[:,1],clf1.predict(x_train),1,c = \"red\")\n",
    "plt.show"
   ]
  },
  {
   "cell_type": "code",
   "execution_count": 286,
   "metadata": {},
   "outputs": [],
   "source": [
    "from sklearn.svm import SVC"
   ]
  },
  {
   "cell_type": "code",
   "execution_count": 301,
   "metadata": {},
   "outputs": [],
   "source": [
    "clf20 = SVC(gamma = 'scale',kernel='linear').fit(x_train, y_train)"
   ]
  },
  {
   "cell_type": "code",
   "execution_count": 302,
   "metadata": {},
   "outputs": [],
   "source": [
    "clf21 = SVC(gamma = 'scale',kernel='linear').fit(x_train, y_train)"
   ]
  },
  {
   "cell_type": "code",
   "execution_count": 303,
   "metadata": {},
   "outputs": [
    {
     "name": "stdout",
     "output_type": "stream",
     "text": [
      "0.770949720670391\n",
      "0.7792207792207793\n"
     ]
    }
   ],
   "source": [
    "print( clf20.score(x_train, y_train) )\n",
    "print( clf20.score(x_test, y_test) )"
   ]
  },
  {
   "cell_type": "code",
   "execution_count": 304,
   "metadata": {},
   "outputs": [
    {
     "name": "stdout",
     "output_type": "stream",
     "text": [
      "0.770949720670391\n",
      "0.7792207792207793\n"
     ]
    }
   ],
   "source": [
    "print( clf21.score(x_train, y_train) )\n",
    "print( clf21.score(x_test, y_test) )"
   ]
  },
  {
   "cell_type": "code",
   "execution_count": 289,
   "metadata": {},
   "outputs": [
    {
     "data": {
      "text/plain": [
       "<function matplotlib.pyplot.show(*args, **kw)>"
      ]
     },
     "execution_count": 289,
     "metadata": {},
     "output_type": "execute_result"
    },
    {
     "data": {
      "image/png": "[encoded data removed]",
      "text/plain": [
       "<Figure size 800x320 with 1 Axes>"
      ]
     },
     "metadata": {},
     "output_type": "display_data"
    }
   ],
   "source": [
    "plt.figure(num=None, figsize=(10, 4), dpi=80, facecolor='w', edgecolor='k')\n",
    "plt.scatter(x_train[:,1],y_train,30,c = \"green\")\n",
    "plt.scatter(x_train[:,1],clf2.predict(x_train),1,c = \"red\")\n",
    "plt.show"
   ]
  },
  {
   "cell_type": "code",
   "execution_count": 290,
   "metadata": {},
   "outputs": [],
   "source": [
    "from sklearn.neural_network import MLPClassifier"
   ]
  },
  {
   "cell_type": "code",
   "execution_count": 239,
   "metadata": {
    "scrolled": true
   },
   "outputs": [
    {
     "name": "stdout",
     "output_type": "stream",
     "text": [
      "1 1\n",
      "1 3\n",
      "1 5\n",
      "1 7\n",
      "1 9\n",
      "1 11\n",
      "1 13\n",
      "1 15\n",
      "1 17\n",
      "1 19\n",
      "1 21\n",
      "1 23\n",
      "1 25\n",
      "1 27\n",
      "1 29\n",
      "3 1\n",
      "3 3\n",
      "3 5\n",
      "3 7\n",
      "3 9\n",
      "3 11\n",
      "3 13\n",
      "3 15\n",
      "3 17\n",
      "3 19\n",
      "3 21\n",
      "3 23\n",
      "3 25\n",
      "3 27\n",
      "3 29\n",
      "5 1\n",
      "5 3\n",
      "5 5\n",
      "5 7\n",
      "5 9\n",
      "5 11\n",
      "5 13\n",
      "5 15\n",
      "5 17\n",
      "5 19\n",
      "5 21\n",
      "5 23\n",
      "5 25\n",
      "5 27\n",
      "5 29\n",
      "7 1\n",
      "7 3\n",
      "7 5\n",
      "7 7\n",
      "7 9\n",
      "7 11\n",
      "7 13\n",
      "7 15\n",
      "7 17\n",
      "7 19\n",
      "7 21\n",
      "7 23\n",
      "7 25\n",
      "7 27\n",
      "7 29\n",
      "9 1\n",
      "9 3\n",
      "9 5\n",
      "9 7\n",
      "9 9\n",
      "9 11\n",
      "9 13\n",
      "9 15\n",
      "9 17\n",
      "9 19\n",
      "9 21\n",
      "9 23\n",
      "9 25\n",
      "9 27\n",
      "9 29\n",
      "11 1\n",
      "11 3\n",
      "11 5\n",
      "11 7\n",
      "11 9\n",
      "11 11\n",
      "11 13\n",
      "11 15\n",
      "11 17\n",
      "11 19\n",
      "11 21\n",
      "11 23\n",
      "11 25\n",
      "11 27\n",
      "11 29\n",
      "13 1\n",
      "13 3\n",
      "13 5\n",
      "13 7\n",
      "13 9\n",
      "13 11\n",
      "13 13\n",
      "13 15\n",
      "13 17\n",
      "13 19\n",
      "13 21\n",
      "13 23\n",
      "13 25\n",
      "13 27\n",
      "13 29\n",
      "15 1\n",
      "15 3\n",
      "15 5\n",
      "15 7\n",
      "15 9\n",
      "15 11\n",
      "15 13\n",
      "15 15\n",
      "15 17\n",
      "15 19\n",
      "15 21\n",
      "15 23\n",
      "15 25\n",
      "15 27\n",
      "15 29\n",
      "17 1\n",
      "17 3\n",
      "17 5\n",
      "17 7\n",
      "17 9\n",
      "17 11\n",
      "17 13\n",
      "17 15\n",
      "17 17\n",
      "17 19\n",
      "17 21\n",
      "17 23\n",
      "17 25\n",
      "17 27\n",
      "17 29\n",
      "19 1\n",
      "19 3\n",
      "19 5\n",
      "19 7\n",
      "19 9\n",
      "19 11\n",
      "19 13\n",
      "19 15\n",
      "19 17\n",
      "19 19\n",
      "19 21\n",
      "19 23\n",
      "19 25\n",
      "19 27\n",
      "19 29\n",
      "21 1\n",
      "21 3\n",
      "21 5\n",
      "21 7\n",
      "21 9\n",
      "21 11\n",
      "21 13\n",
      "21 15\n",
      "21 17\n",
      "21 19\n",
      "21 21\n",
      "21 23\n",
      "21 25\n",
      "21 27\n",
      "21 29\n",
      "23 1\n",
      "23 3\n",
      "23 5\n",
      "23 7\n",
      "23 9\n",
      "23 11\n",
      "23 13\n",
      "23 15\n",
      "23 17\n",
      "23 19\n",
      "23 21\n",
      "23 23\n",
      "23 25\n",
      "23 27\n",
      "23 29\n",
      "25 1\n",
      "25 3\n",
      "25 5\n",
      "25 7\n",
      "25 9\n",
      "25 11\n",
      "25 13\n",
      "25 15\n",
      "25 17\n",
      "25 19\n",
      "25 21\n",
      "25 23\n",
      "25 25\n",
      "25 27\n",
      "25 29\n",
      "27 1\n",
      "27 3\n",
      "27 5\n",
      "27 7\n",
      "27 9\n",
      "27 11\n",
      "27 13\n",
      "27 15\n",
      "27 17\n",
      "27 19\n",
      "27 21\n",
      "27 23\n",
      "27 25\n",
      "27 27\n",
      "27 29\n",
      "29 1\n",
      "29 3\n",
      "29 5\n",
      "29 7\n",
      "29 9\n",
      "29 11\n",
      "29 13\n",
      "29 15\n",
      "29 17\n",
      "29 19\n",
      "29 21\n",
      "29 23\n",
      "29 25\n",
      "29 27\n",
      "29 29\n"
     ]
    }
   ],
   "source": [
    "besthp ={}\n",
    "bestsc = []\n",
    "for x in range(1,30,2):\n",
    "    for y in range(1,30,2):\n",
    "        print(x,y)\n",
    "        clf3 = MLPClassifier(solver='lbfgs', alpha=1e-5,hidden_layer_sizes=(x,y), random_state=1).fit(x_train, y_train)\n",
    "#         besthp.update(clf3.score(x_test, y_test)=(x,y))\n",
    "        bestsc.append(clf3.score(x_test, y_test))\n"
   ]
  },
  {
   "cell_type": "code",
   "execution_count": 247,
   "metadata": {},
   "outputs": [
    {
     "data": {
      "text/plain": [
       "0.7662337662337663"
      ]
     },
     "execution_count": 247,
     "metadata": {},
     "output_type": "execute_result"
    }
   ],
   "source": [
    "(max(bestsc))"
   ]
  },
  {
   "cell_type": "code",
   "execution_count": 305,
   "metadata": {},
   "outputs": [],
   "source": [
    "clf3 = MLPClassifier(solver='lbfgs', alpha=1e-5,hidden_layer_sizes=(23,15), random_state=1).fit(x_train, y_train)\n"
   ]
  },
  {
   "cell_type": "code",
   "execution_count": 306,
   "metadata": {},
   "outputs": [
    {
     "name": "stdout",
     "output_type": "stream",
     "text": [
      "0.750465549348231\n",
      "0.7142857142857143\n"
     ]
    }
   ],
   "source": [
    "print( clf3.score(x_train, y_train) )\n",
    "print( clf3.score(x_test, y_test) )"
   ]
  },
  {
   "cell_type": "code",
   "execution_count": null,
   "metadata": {},
   "outputs": [],
   "source": []
  },
  {
   "cell_type": "code",
   "execution_count": null,
   "metadata": {},
   "outputs": [],
   "source": []
  }
 ],
 "metadata": {
  "kernelspec": {
   "display_name": "Python 3",
   "language": "python",
   "name": "python3"
  },
  "language_info": {
   "codemirror_mode": {
    "name": "ipython",
    "version": 3
   },
   "file_extension": ".py",
   "mimetype": "text/x-python",
   "name": "python",
   "nbconvert_exporter": "python",
   "pygments_lexer": "ipython3",
   "version": "3.7.1"
  }
 },
 "nbformat": 4,
 "nbformat_minor": 2
}
