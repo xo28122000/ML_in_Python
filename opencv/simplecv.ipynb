{
 "cells": [
  {
   "cell_type": "code",
   "execution_count": 1,
   "metadata": {},
   "outputs": [
    {
     "name": "stdout",
     "output_type": "stream",
     "text": [
      "Collecting https://github.com/ingenuitas/SimpleCV/zipball/master\n",
      "\u001b[?25l  Downloading https://github.com/ingenuitas/SimpleCV/zipball/master\n",
      "\u001b[K     / 59.4MB 958kB/s     \\ 11.3MB 1.3MB/s     \\ 42.0MB 7.3MB/s     - 46.7MB 7.3MB/s     | 58.3MB 958kB/s\n",
      "\u001b[?25hBuilding wheels for collected packages: SimpleCV\n",
      "  Building wheel for SimpleCV (setup.py) ... \u001b[?25ldone\n",
      "\u001b[?25h  Created wheel for SimpleCV: filename=SimpleCV-1.3-cp37-none-any.whl size=25561405 sha256=5e3d7deddc871a2e9cba8a867cff308ac53de2db90fc1c7ef105f1b2cb59ace7\n",
      "  Stored in directory: /private/var/folders/z4/7ptyw0b5767grrrpdngyynp80000gn/T/pip-ephem-wheel-cache-qz7yo5ph/wheels/2d/71/42/75b04fa3b128cae921a9fe4c11523d332e1f4e41f34826338b\n",
      "Successfully built SimpleCV\n",
      "Installing collected packages: SimpleCV\n",
      "Successfully installed SimpleCV-1.3\n"
     ]
    }
   ],
   "source": [
    "!pip install https://github.com/ingenuitas/SimpleCV/zipball/master"
   ]
  },
  {
   "cell_type": "code",
   "execution_count": 3,
   "metadata": {},
   "outputs": [
    {
     "ename": "SyntaxError",
     "evalue": "Missing parentheses in call to 'print'. Did you mean print('unit test')? (base.py, line 175)",
     "output_type": "error",
     "traceback": [
      "Traceback \u001b[0;36m(most recent call last)\u001b[0m:\n",
      "  File \u001b[1;32m\"/Users/j/anaconda3/lib/python3.7/site-packages/IPython/core/interactiveshell.py\"\u001b[0m, line \u001b[1;32m3267\u001b[0m, in \u001b[1;35mrun_code\u001b[0m\n    exec(code_obj, self.user_global_ns, self.user_ns)\n",
      "  File \u001b[1;32m\"<ipython-input-3-78f57c89a189>\"\u001b[0m, line \u001b[1;32m1\u001b[0m, in \u001b[1;35m<module>\u001b[0m\n    import SimpleCV\n",
      "\u001b[0;36m  File \u001b[0;32m\"/Users/j/anaconda3/lib/python3.7/site-packages/SimpleCV/__init__.py\"\u001b[0;36m, line \u001b[0;32m3\u001b[0;36m, in \u001b[0;35m<module>\u001b[0;36m\u001b[0m\n\u001b[0;31m    from SimpleCV.base import *\u001b[0m\n",
      "\u001b[0;36m  File \u001b[0;32m\"/Users/j/anaconda3/lib/python3.7/site-packages/SimpleCV/base.py\"\u001b[0;36m, line \u001b[0;32m175\u001b[0m\n\u001b[0;31m    print 'unit test'\u001b[0m\n\u001b[0m                    ^\u001b[0m\n\u001b[0;31mSyntaxError\u001b[0m\u001b[0;31m:\u001b[0m Missing parentheses in call to 'print'. Did you mean print('unit test')?\n"
     ]
    }
   ],
   "source": [
    "import SimpleCV\n",
    "camera = SimpleCV.Camera()\n",
    "image = camera.getImage()\n",
    "image.show()"
   ]
  },
  {
   "cell_type": "code",
   "execution_count": null,
   "metadata": {},
   "outputs": [],
   "source": []
  }
 ],
 "metadata": {
  "kernelspec": {
   "display_name": "Python 3",
   "language": "python",
   "name": "python3"
  },
  "language_info": {
   "codemirror_mode": {
    "name": "ipython",
    "version": 3
   },
   "file_extension": ".py",
   "mimetype": "text/x-python",
   "name": "python",
   "nbconvert_exporter": "python",
   "pygments_lexer": "ipython3",
   "version": "3.7.1"
  }
 },
 "nbformat": 4,
 "nbformat_minor": 2
}
